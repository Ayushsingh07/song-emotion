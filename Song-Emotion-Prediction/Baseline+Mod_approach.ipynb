{
 "cells": [
  {
   "cell_type": "markdown",
   "metadata": {},
   "source": [
    "# NLP FINAL Project\n",
    "\n",
    "### Importing Packages"
   ]
  },
  {
   "cell_type": "code",
   "execution_count": 1,
   "metadata": {},
   "outputs": [],
   "source": [
    "import numpy as np \n",
    "import pandas as pd\n",
    "import string \n",
    "import nltk\n",
    "import re\n",
    "from bs4 import BeautifulSoup\n",
    "import requests\n",
    "from string import punctuation\n",
    "stopword = nltk.corpus.stopwords.words('english')\n",
    "from matplotlib.pyplot import subplot\n",
    "from matplotlib import pyplot as plt\n",
    "from matplotlib.pyplot import bar\n",
    "import itertools\n",
    "\n",
    "from sklearn import preprocessing\n",
    "from sklearn.feature_extraction.text import CountVectorizer\n",
    "from sklearn.feature_extraction.text import TfidfVectorizer\n",
    "from sklearn.linear_model import LogisticRegression\n",
    "from sklearn.ensemble import RandomForestClassifier\n",
    "from sklearn.svm import SVC\n",
    "from sklearn.naive_bayes import GaussianNB, BernoulliNB, MultinomialNB\n",
    "from sklearn.multiclass import OneVsRestClassifier\n",
    "from sklearn.model_selection import train_test_split\n",
    "from sklearn.model_selection import GridSearchCV\n",
    "\n",
    "from sklearn.metrics import accuracy_score\n",
    "from sklearn.metrics import recall_score\n",
    "from sklearn.metrics import precision_score\n",
    "from sklearn.metrics import confusion_matrix\n",
    "from sklearn.metrics import classification_report\n",
    "from sklearn.metrics import f1_score\n",
    "from sklearn.metrics import precision_recall_fscore_support\n",
    "\n",
    "wn = nltk.WordNetLemmatizer()\n",
    "le = preprocessing.LabelEncoder()\n",
    "C_vec = CountVectorizer()\n",
    "\n",
    "import wnaffect\n",
    "import emotion\n",
    "from emotion import Emotion \n",
    "from wnaffect import WNAffect\n",
    "\n",
    "wna = WNAffect('wordnet-1.6/', 'wn-domains-3.2/')"
   ]
  },
  {
   "cell_type": "markdown",
   "metadata": {},
   "source": [
    "### Extracting Lyrics from Data"
   ]
  },
  {
   "cell_type": "code",
   "execution_count": null,
   "metadata": {},
   "outputs": [],
   "source": [
    "url = data.iloc[:,2]\n",
    "lyric_list = []\n",
    "for URL in url:\n",
    "    page = requests.get(URL)\n",
    "    html = BeautifulSoup(page.text, \"html.parser\") # Extract the page's HTML as a string\n",
    "\n",
    "    # Scrape the song lyrics from the HTML\n",
    "    lyrics = html.find(\"div\", class_=\"lyrics\").get_text()\n",
    "    lyric_list.append(lyrics)\n",
    "%store lyric_list"
   ]
  },
  {
   "cell_type": "code",
   "execution_count": 2,
   "metadata": {},
   "outputs": [
    {
     "name": "stdout",
     "output_type": "stream",
     "text": [
      "2022\n"
     ]
    }
   ],
   "source": [
    "%store -r lyric_list\n",
    "# print(len(lyric_list))"
   ]
  },
  {
   "cell_type": "markdown",
   "metadata": {},
   "source": [
    "# PROJECT CODE"
   ]
  },
  {
   "cell_type": "markdown",
   "metadata": {},
   "source": [
    "### Importing File"
   ]
  },
  {
   "cell_type": "code",
   "execution_count": 3,
   "metadata": {},
   "outputs": [],
   "source": [
    "data = pd.read_csv('final_song_data.csv',delimiter=',',header =None)\n",
    "artist_name = data.iloc[:,0]\n",
    "song_name = data.iloc[:,1]\n",
    "data_set = [list(data_row) for data_row in zip(artist_name,song_name,lyric_list)]\n",
    "labels = le.fit_transform(data.iloc[:,3])\n",
    "n_classes=len(data.iloc[:,3].unique())"
   ]
  },
  {
   "cell_type": "markdown",
   "metadata": {},
   "source": [
    "### Pre-Processing Function for Train and Test"
   ]
  },
  {
   "cell_type": "code",
   "execution_count": 4,
   "metadata": {},
   "outputs": [],
   "source": [
    "def process_features(data_set):\n",
    "    \n",
    "    lyric_list_new = []\n",
    "    baseline_lyric = []\n",
    "    artist_name_new = []\n",
    "    song_name_new = []\n",
    "    chorus_list = []\n",
    "    verse_list = []\n",
    "    bridge_list = []\n",
    "    hook_list = []\n",
    "    intro_list = []\n",
    "    outro_list = []\n",
    "    song_length = []\n",
    "    for dat in data_set:\n",
    "        s = dat[2]\n",
    "        chorus_list.append(len(re.findall('\\[Chorus', s)))\n",
    "        verse_list.append(len(re.findall('\\[Verse', s)))\n",
    "        hook_list.append(len(re.findall('\\[Hook', s)))\n",
    "        bridge_list.append(len(re.findall('\\[Bridge', s)))\n",
    "        intro_list.append(len(re.findall('\\[Intro', s)))\n",
    "        outro_list.append(len(re.findall('\\[Outro', s)))\n",
    "\n",
    "        v = s.split(\"\\n\")\n",
    "        song_length.append(len(v))\n",
    "        for i in v:\n",
    "            d = re.sub(\"^\\[(.*)]\",\"\",i)\n",
    "            v[v.index(i)] = d\n",
    "        lyric_list_new.append(\"\\n\".join(v))\n",
    "        baseline_lyric.append(s)\n",
    "        \n",
    "        artist_name_new.append(dat[0])\n",
    "        song_name_new.append(dat[1])\n",
    "\n",
    "   \n",
    "    for element in range(1,len(lyric_list_new)): \n",
    "        \n",
    "        #Baseline\n",
    "        baseline_lyric[element] =lyric_list_new[element].replace(\"'\",\" \")\n",
    "        baseline_lyric[element] = re.sub(r'[^\\w\\s]','',lyric_list_new[element])\n",
    "        emo_list = []\n",
    "        token = nltk.word_tokenize(lyric_list_new[element])\n",
    "        tagged = nltk.pos_tag(token)\n",
    "        tags = [x[1] for x in tagged]\n",
    "        for i in range(0,len(token)):\n",
    "            emo = wna.get_emotion(token[i], tags[i])\n",
    "            if emo is not None:\n",
    "                emo_list.append(str(emo))\n",
    "        tb = \" \".join([word for word in emo_list]) \n",
    "        baseline_lyric[element]=tb\n",
    "        \n",
    "        #LYRICS\n",
    "        lyric_list_new[element] =lyric_list_new[element].replace(\"'\",\" \")\n",
    "        lyric_list_new[element] = re.sub(r'[^\\w\\s]','',lyric_list_new[element])\n",
    "        lyric_list_new[element] = nltk.word_tokenize(lyric_list_new[element])\n",
    "        not_stopword_list = [word.lower() for word in lyric_list_new[element] if word.lower() not in stopword]\n",
    "        t = \" \".join([wn.lemmatize(word) for word in not_stopword_list])\n",
    "        lyric_list_new[element]=t\n",
    "        \n",
    "        #ARTIST\n",
    "        artist_name_new[element] =artist_name_new[element].replace(\",\",\"\")\n",
    "        artist_name_new[element] =artist_name_new[element].replace(\"&\",\"\")\n",
    "\n",
    "        \n",
    "        #SONG TITLE\n",
    "        song_name_new[element] =song_name_new[element].replace(\"'\",\" \")\n",
    "        song_name_new[element] = re.sub(r'[^\\w\\s]','',song_name_new[element])\n",
    "        song_name_new[element] = nltk.word_tokenize(song_name_new[element])\n",
    "        not_stopword_list = [word.lower() for word in song_name_new[element] if word.lower() not in stopword]\n",
    "        t = \" \".join([wn.lemmatize(word) for word in not_stopword_list])\n",
    "        song_name_new[element]=t\n",
    "        \n",
    "    data_set_new = [artist_name_new,song_name_new,lyric_list_new,baseline_lyric]\n",
    "    lyric_all = np.vstack((np.array(chorus_list),np.array(verse_list),np.array(bridge_list),np.array(hook_list),np.array(intro_list),np.array(outro_list),np.array(song_length)))\n",
    "    lyric_all = np.transpose(lyric_all)\n",
    "    return data_set_new,lyric_all"
   ]
  },
  {
   "cell_type": "markdown",
   "metadata": {},
   "source": [
    "### Train-Test split"
   ]
  },
  {
   "cell_type": "code",
   "execution_count": 5,
   "metadata": {},
   "outputs": [],
   "source": [
    "x_train, x_test, y_train, y_test = train_test_split(data_set,labels, train_size=0.8,test_size = 0.2)\n",
    "\n",
    "#Training Set \n",
    "dataset_train_sub,feat_add_train = process_features(x_train)\n",
    "artist_train_sub = dataset_train_sub[0]\n",
    "song_title_train_sub = dataset_train_sub[1]\n",
    "lyric_train_sub = dataset_train_sub[2]\n",
    "baseline_train_sub = dataset_train_sub[3]\n",
    "lyric_train_label = y_train\n",
    "\n",
    "\n",
    "#Test set \n",
    "dataset_test_sub,feat_add_test = process_features(x_test)\n",
    "artist_test_sub = dataset_test_sub[0]\n",
    "song_title_test_sub = dataset_test_sub[1]\n",
    "lyric_test_sub = dataset_test_sub[2]\n",
    "baseline_test_sub = dataset_test_sub[3]\n",
    "lyric_test_label = y_test"
   ]
  },
  {
   "cell_type": "markdown",
   "metadata": {},
   "source": [
    "### Feature Extraction\n",
    "##### Bag Of Words Approach"
   ]
  },
  {
   "cell_type": "code",
   "execution_count": 6,
   "metadata": {},
   "outputs": [
    {
     "name": "stdout",
     "output_type": "stream",
     "text": [
      "Train Data Shape:  (1617, 44346)\n",
      "Test Data Shape:  (405, 44346)\n"
     ]
    }
   ],
   "source": [
    "#FEATURE EXTRACTION\n",
    "C_vec = CountVectorizer(max_df = 0.5,min_df = 2,ngram_range = (1,2))\n",
    "trainX1 = C_vec.fit_transform(lyric_train_sub).toarray()\n",
    "testX1 = C_vec.transform(lyric_test_sub).toarray()\n",
    "\n",
    "C_vec = CountVectorizer(ngram_range = (1,3))\n",
    "trainX2 = C_vec.fit_transform(artist_train_sub).toarray()\n",
    "testX2 = C_vec.transform(artist_test_sub).toarray()\n",
    "\n",
    "C_vec = CountVectorizer(max_df = 0.5,min_df = 2,ngram_range = (1,2))\n",
    "trainX3 = C_vec.fit_transform(song_title_train_sub).toarray()\n",
    "testX3 = C_vec.transform(song_title_test_sub).toarray()\n",
    "\n",
    "C_vec = CountVectorizer()\n",
    "trainX4 = C_vec.fit_transform(baseline_train_sub).toarray()\n",
    "testX4 = C_vec.transform(baseline_test_sub).toarray()\n",
    "\n",
    "lyric_train = np.hstack((trainX1,trainX2,trainX3,trainX4,feat_add_train))\n",
    "lyric_test = np.hstack((testX1,testX2,testX3,testX4,feat_add_test))\n",
    "\n",
    "\n",
    "#Final feature : lyric_train\n",
    "# print(\"Train Data Shape: \",np.shape(lyric_train))\n",
    "# print(\"Test Data Shape: \",np.shape(lyric_test))"
   ]
  },
  {
   "cell_type": "markdown",
   "metadata": {},
   "source": [
    "# CLASSIFIERS"
   ]
  },
  {
   "cell_type": "markdown",
   "metadata": {},
   "source": [
    "### Multinomial Naive Bayes"
   ]
  },
  {
   "cell_type": "code",
   "execution_count": 7,
   "metadata": {},
   "outputs": [],
   "source": [
    "n_class1=0\n",
    "n_class2=0\n",
    "n_class3=0\n",
    "\n",
    "for i in lyric_train_label:\n",
    "    if(i==0):\n",
    "        n_class1+=1\n",
    "    elif(i==1):\n",
    "        n_class2+=1\n",
    "    else:\n",
    "        n_class3+=1\n",
    "p1 = n_class1/(n_class1+n_class2+n_class3)\n",
    "p2 = n_class2/(n_class1+n_class2+n_class3)\n",
    "p3 = n_class3/(n_class1+n_class2+n_class3)\n",
    "p = np.array([p1,p2,p3])\n",
    "nb_g = MultinomialNB(class_prior = p)"
   ]
  },
  {
   "cell_type": "markdown",
   "metadata": {},
   "source": [
    "### Support Vector Machines"
   ]
  },
  {
   "cell_type": "code",
   "execution_count": 8,
   "metadata": {},
   "outputs": [],
   "source": [
    "parameters_svm = {'kernel':('linear','rbf'),'C':[1,10]}\n",
    "svm = SVC()"
   ]
  },
  {
   "cell_type": "markdown",
   "metadata": {},
   "source": [
    "### Random Forest"
   ]
  },
  {
   "cell_type": "code",
   "execution_count": 9,
   "metadata": {},
   "outputs": [],
   "source": [
    "n_est = np.arange(1,31,1)\n",
    "parameters_rf = {'n_estimators':n_est,'max_depth':[4,20,80,None]}\n",
    "rfc = RandomForestClassifier()"
   ]
  },
  {
   "cell_type": "markdown",
   "metadata": {},
   "source": [
    "### Logistical Regression"
   ]
  },
  {
   "cell_type": "code",
   "execution_count": 10,
   "metadata": {},
   "outputs": [],
   "source": [
    "parameter_lr = {'C': [0.001,0.01,1,100,1000],'penalty':('l1','l2')}\n",
    "lr = LogisticRegression(multi_class = 'ovr')"
   ]
  },
  {
   "cell_type": "code",
   "execution_count": 11,
   "metadata": {},
   "outputs": [],
   "source": [
    "models = [nb_g,svm,rfc,lr]\n",
    "parameters = [p,parameters_svm,parameters_rf,parameter_lr]\n",
    "model_name = ['Naive Bayes','SVM','Random Forest','Logistical Regression']"
   ]
  },
  {
   "cell_type": "markdown",
   "metadata": {},
   "source": [
    "### Classifiers Implementation and Evaluation"
   ]
  },
  {
   "cell_type": "code",
   "execution_count": 12,
   "metadata": {},
   "outputs": [
    {
     "name": "stdout",
     "output_type": "stream",
     "text": [
      "Naive Bayes\n"
     ]
    },
    {
     "data": {
      "image/png": "[encoded data removed]",
      "text/plain": [
       "<matplotlib.figure.Figure at 0x1a2e89de10>"
      ]
     },
     "metadata": {},
     "output_type": "display_data"
    },
    {
     "name": "stdout",
     "output_type": "stream",
     "text": [
      "             precision    recall  f1-score   support\n",
      "\n",
      "    class 0       0.55      0.47      0.51       115\n",
      "    class 1       0.57      0.49      0.53       156\n",
      "    class 2       0.54      0.70      0.61       134\n",
      "\n",
      "avg / total       0.56      0.56      0.55       405\n",
      "\n",
      "Train Accuracy:  0.9672232529375386 \t Test Accuracy:  0.5555555555555556\n",
      "Train Precision:  0.9666671137145658 \t Test Precision:  0.5563332916636589\n",
      "Train Recall:  0.9674539888320789 \t Test Recall:  0.5548824994314936\n",
      "Train F1 Score:  0.9666705963899296 \t Test F1 Score:  0.5501515288142046\n",
      "\n",
      "SVM\n"
     ]
    },
    {
     "data": {
      "image/png": "[encoded data removed]",
      "text/plain": [
       "<matplotlib.figure.Figure at 0x1a2ea89470>"
      ]
     },
     "metadata": {},
     "output_type": "display_data"
    },
    {
     "name": "stdout",
     "output_type": "stream",
     "text": [
      "             precision    recall  f1-score   support\n",
      "\n",
      "    class 0       0.53      0.36      0.42       115\n",
      "    class 1       0.56      0.58      0.57       156\n",
      "    class 2       0.49      0.61      0.55       134\n",
      "\n",
      "avg / total       0.53      0.53      0.52       405\n",
      "\n",
      "Train Accuracy:  0.795299938157081 \t Test Accuracy:  0.5259259259259259\n",
      "Train Precision:  0.8106223192154668 \t Test Precision:  0.5262077134785358\n",
      "Train Recall:  0.7843373817042804 \t Test Recall:  0.5151283715203248\n",
      "Train F1 Score:  0.7883390982369353 \t Test F1 Score:  0.5131201589454969\n",
      "\n",
      "Random Forest\n"
     ]
    },
    {
     "data": {
      "image/png": "[encoded data removed]",
      "text/plain": [
       "<matplotlib.figure.Figure at 0x1a24e7e518>"
      ]
     },
     "metadata": {},
     "output_type": "display_data"
    },
    {
     "name": "stdout",
     "output_type": "stream",
     "text": [
      "             precision    recall  f1-score   support\n",
      "\n",
      "    class 0       0.48      0.19      0.27       115\n",
      "    class 1       0.47      0.71      0.56       156\n",
      "    class 2       0.62      0.57      0.59       134\n",
      "\n",
      "avg / total       0.52      0.51      0.49       405\n",
      "\n",
      "Train Accuracy:  0.9962894248608535 \t Test Accuracy:  0.5135802469135803\n",
      "Train Precision:  0.9963854967586311 \t Test Precision:  0.5207495811140868\n",
      "Train Recall:  0.9962868154365975 \t Test Recall:  0.48786557735292324\n",
      "Train F1 Score:  0.9963288785390985 \t Test F1 Score:  0.4753187013259033\n",
      "\n",
      "Logistical Regression\n"
     ]
    },
    {
     "data": {
      "image/png": "[encoded data removed]",
      "text/plain": [
       "<matplotlib.figure.Figure at 0x1a2e916160>"
      ]
     },
     "metadata": {},
     "output_type": "display_data"
    },
    {
     "name": "stdout",
     "output_type": "stream",
     "text": [
      "             precision    recall  f1-score   support\n",
      "\n",
      "    class 0       0.55      0.42      0.48       115\n",
      "    class 1       0.51      0.60      0.55       156\n",
      "    class 2       0.57      0.58      0.58       134\n",
      "\n",
      "avg / total       0.54      0.54      0.54       405\n",
      "\n",
      "Train Accuracy:  0.8286951144094001 \t Test Accuracy:  0.5407407407407407\n",
      "Train Precision:  0.8333608270903965 \t Test Precision:  0.545414186894917\n",
      "Train Recall:  0.8176480148540449 \t Test Recall:  0.5318782342468261\n",
      "Train F1 Score:  0.8227287927151128 \t Test F1 Score:  0.5344403868394729\n",
      "\n"
     ]
    }
   ],
   "source": [
    "Accuracy_val = []\n",
    "Precision_val = []\n",
    "Recall_val =[]\n",
    "F1_score = []\n",
    "for i in range(0,len(models)):\n",
    "    print(model_name[i])\n",
    "    if(i==0):\n",
    "        clf = models[i]\n",
    "    else:\n",
    "        clf = GridSearchCV(models[i],parameters[i],cv=5)\n",
    "    clf.fit(lyric_train,lyric_train_label)\n",
    "    lyric_train_label_predict = clf.predict(lyric_train)\n",
    "    lyric_test_label_predict = clf.predict(lyric_test)\n",
    "    \n",
    "    plt.figure\n",
    "    #Compute Confusion Matrix\n",
    "    cnf_matrix = confusion_matrix(lyric_test_label, lyric_test_label_predict)\n",
    "    plt.imshow(cnf_matrix, interpolation='nearest',cmap=plt.cm.Blues)\n",
    "    plt.title('Confusion Matrix')\n",
    "    thresh = cnf_matrix.max() / 2.\n",
    "    plt.colorbar()\n",
    "    for i, j in itertools.product(range(cnf_matrix.shape[0]), range(cnf_matrix.shape[1])):\n",
    "        plt.text(j, i, format(cnf_matrix[i, j], 'd'),horizontalalignment=\"center\",color=\"white\" if cnf_matrix[i, j] > thresh else \"black\")\n",
    "\n",
    "    plt.ylabel('True label')\n",
    "    plt.xlabel('Predicted label')\n",
    "    plt.tight_layout()\n",
    "\n",
    "    plt.show()\n",
    "    \n",
    "    #Classification Report\n",
    "    target_names = ['class 0', 'class 1', 'class 2']\n",
    "    print(classification_report(lyric_test_label, lyric_test_label_predict, target_names=target_names))\n",
    "    \n",
    "    #Accuracy, Precision, Recall, F1score\n",
    "    accuracy_train = accuracy_score(lyric_train_label,lyric_train_label_predict)\n",
    "    accuracy_test = accuracy_score(lyric_test_label,lyric_test_label_predict)\n",
    "    print(\"Train Accuracy: \",accuracy_train,'\\t',\"Test Accuracy: \",accuracy_test)\n",
    "    \n",
    "    precision_train= precision_score(lyric_train_label,lyric_train_label_predict,average = 'macro')\n",
    "    precision_test =  precision_score(lyric_test_label,lyric_test_label_predict,average = 'macro')\n",
    "    print(\"Train Precision: \",precision_train,'\\t',\"Test Precision: \",precision_test)\n",
    "    \n",
    "    recall_train= recall_score(lyric_train_label,lyric_train_label_predict,average = 'macro')\n",
    "    recall_test =  recall_score(lyric_test_label,lyric_test_label_predict,average = 'macro')    \n",
    "    print(\"Train Recall: \",recall_train,'\\t',\"Test Recall: \",recall_test) \n",
    "    \n",
    "    f1_train = f1_score(lyric_train_label,lyric_train_label_predict,average = 'macro')\n",
    "    f1_test = f1_score(lyric_test_label,lyric_test_label_predict,average = 'macro')\n",
    "    print(\"Train F1 Score: \",f1_train,'\\t',\"Test F1 Score: \",f1_test)\n",
    "    \n",
    "    Accuracy_val.append(accuracy_test)\n",
    "    Precision_val.append(precision_test)\n",
    "    Recall_val.append(recall_test)\n",
    "    F1_score.append(f1_test)\n",
    "    print()\n",
    "\n",
    " \n",
    "    "
   ]
  },
  {
   "cell_type": "code",
   "execution_count": 13,
   "metadata": {
    "scrolled": true
   },
   "outputs": [
    {
     "data": {
      "image/png": "[encoded data removed]",
      "text/plain": [
       "<matplotlib.figure.Figure at 0x1a31b811d0>"
      ]
     },
     "metadata": {},
     "output_type": "display_data"
    },
    {
     "data": {
      "image/png": "[encoded data removed]",
      "text/plain": [
       "<matplotlib.figure.Figure at 0x1a2463a588>"
      ]
     },
     "metadata": {},
     "output_type": "display_data"
    },
    {
     "data": {
      "image/png": "[encoded data removed]",
      "text/plain": [
       "<matplotlib.figure.Figure at 0x1a245aa550>"
      ]
     },
     "metadata": {},
     "output_type": "display_data"
    },
    {
     "data": {
      "image/png": "[encoded data removed]",
      "text/plain": [
       "<matplotlib.figure.Figure at 0x1a305385c0>"
      ]
     },
     "metadata": {},
     "output_type": "display_data"
    }
   ],
   "source": [
    "## Bar Graphs\n",
    "plt.figure\n",
    "plt.bar(model_name,Accuracy_val)\n",
    "plt.show()\n",
    "plt.figure\n",
    "plt.bar(model_name,Precision_val)\n",
    "plt.show()\n",
    "plt.figure\n",
    "plt.bar(model_name,Recall_val)\n",
    "plt.show()\n",
    "plt.figure\n",
    "plt.bar(model_name,F1_score)\n",
    "plt.show()"
   ]
  }
 ],
 "metadata": {
  "kernelspec": {
   "display_name": "Python 3",
   "language": "python",
   "name": "python3"
  },
  "language_info": {
   "codemirror_mode": {
    "name": "ipython",
    "version": 3
   },
   "file_extension": ".py",
   "mimetype": "text/x-python",
   "name": "python",
   "nbconvert_exporter": "python",
   "pygments_lexer": "ipython3",
   "version": "3.6.4"
  }
 },
 "nbformat": 4,
 "nbformat_minor": 2
}
