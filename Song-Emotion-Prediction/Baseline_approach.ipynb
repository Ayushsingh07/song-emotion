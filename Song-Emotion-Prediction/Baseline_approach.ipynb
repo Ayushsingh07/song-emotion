{
 "cells": [
  {
   "cell_type": "markdown",
   "metadata": {},
   "source": [
    "# NLP FINAL Project\n",
    "\n",
    "### Importing Packages"
   ]
  },
  {
   "cell_type": "code",
   "execution_count": 25,
   "metadata": {},
   "outputs": [],
   "source": [
    "import numpy as np \n",
    "import pandas as pd\n",
    "import string \n",
    "import nltk\n",
    "import re\n",
    "from bs4 import BeautifulSoup\n",
    "import requests\n",
    "from string import punctuation\n",
    "stopword = nltk.corpus.stopwords.words('english')\n",
    "\n",
    "\n",
    "from sklearn.feature_extraction.text import CountVectorizer\n",
    "from sklearn.linear_model import LogisticRegression\n",
    "from sklearn.ensemble import RandomForestClassifier\n",
    "from sklearn.svm import SVC\n",
    "from sklearn import preprocessing\n",
    "from sklearn.metrics import accuracy_score\n",
    "from sklearn.naive_bayes import GaussianNB, BernoulliNB, MultinomialNB\n",
    "from sklearn.multiclass import OneVsRestClassifier\n",
    "from sklearn.model_selection import train_test_split\n",
    "from sklearn.metrics import f1_score\n",
    "from sklearn.model_selection import GridSearchCV\n",
    "\n",
    "\n",
    "from matplotlib.pyplot import subplot\n",
    "from matplotlib import pyplot as plt\n",
    "from matplotlib.pyplot import bar\n",
    "import itertools\n",
    "\n",
    "from sklearn.metrics import accuracy_score\n",
    "from sklearn.metrics import recall_score\n",
    "from sklearn.metrics import precision_score\n",
    "from sklearn.metrics import confusion_matrix\n",
    "from sklearn.metrics import classification_report\n",
    "from sklearn.metrics import f1_score\n",
    "from sklearn.metrics import precision_recall_fscore_support\n",
    "\n",
    "\n",
    "\n",
    "wn = nltk.WordNetLemmatizer()\n",
    "le = preprocessing.LabelEncoder()\n",
    "\n",
    "import wnaffect\n",
    "import emotion\n",
    "from emotion import Emotion \n",
    "from wnaffect import WNAffect\n",
    "\n",
    "wna = WNAffect('wordnet-1.6/', 'wn-domains-3.2/')"
   ]
  },
  {
   "cell_type": "markdown",
   "metadata": {},
   "source": [
    "### Extracting Lyrics from Data"
   ]
  },
  {
   "cell_type": "code",
   "execution_count": null,
   "metadata": {},
   "outputs": [],
   "source": [
    "url = data.iloc[:,2]\n",
    "lyric_list = []\n",
    "for URL in url:\n",
    "    page = requests.get(URL)\n",
    "    html = BeautifulSoup(page.text, \"html.parser\") # Extract the page's HTML as a string\n",
    "\n",
    "    # Scrape the song lyrics from the HTML\n",
    "    lyrics = html.find(\"div\", class_=\"lyrics\").get_text()\n",
    "    lyric_list.append(lyrics)"
   ]
  },
  {
   "cell_type": "code",
   "execution_count": 4,
   "metadata": {},
   "outputs": [
    {
     "name": "stdout",
     "output_type": "stream",
     "text": [
      "2022\n"
     ]
    }
   ],
   "source": [
    "%store -r lyric_list\n",
    "# print(len(lyric_list))"
   ]
  },
  {
   "cell_type": "markdown",
   "metadata": {},
   "source": [
    "# PROJECT CODE"
   ]
  },
  {
   "cell_type": "markdown",
   "metadata": {},
   "source": [
    "### Importing File"
   ]
  },
  {
   "cell_type": "code",
   "execution_count": 3,
   "metadata": {},
   "outputs": [],
   "source": [
    "data = pd.read_csv('songs_trial_data_2000.csv',delimiter=',',header =None)"
   ]
  },
  {
   "cell_type": "markdown",
   "metadata": {},
   "source": [
    "### Pre-Processing Function for Train and Test"
   ]
  },
  {
   "cell_type": "code",
   "execution_count": 5,
   "metadata": {},
   "outputs": [],
   "source": [
    "def process_features(lyric_list):\n",
    "    lyric_list_new = []\n",
    "    \n",
    "    for s in lyric_list:\n",
    "        lyric_list_new.append(s)\n",
    "        \n",
    "    for element in range(1,len(lyric_list_new)):\n",
    "        lyric_list_new[element] =lyric_list_new[element].replace(\"'\",\" \")\n",
    "        lyric_list_new[element] = re.sub(r'[^\\w\\s]','',lyric_list_new[element])\n",
    "        emo_list = []\n",
    "        token = nltk.word_tokenize(lyric_list_new[element])\n",
    "        tagged = nltk.pos_tag(token)\n",
    "        tags = [x[1] for x in tagged]\n",
    "        for i in range(0,len(token)):\n",
    "            emo = wna.get_emotion(token[i], tags[i])\n",
    "            if emo is not None:\n",
    "                emo_list.append(str(emo))\n",
    "        t = \" \".join([word for word in emo_list]) \n",
    "        lyric_list_new[element]=t    \n",
    "    return lyric_list_new"
   ]
  },
  {
   "cell_type": "markdown",
   "metadata": {},
   "source": [
    "### Train-Test split"
   ]
  },
  {
   "cell_type": "code",
   "execution_count": 17,
   "metadata": {},
   "outputs": [],
   "source": [
    "from sklearn.model_selection import train_test_split\n",
    "from sklearn import preprocessing\n",
    "le = preprocessing.LabelEncoder()\n",
    "data_moods = [word.title() for word in data.iloc[:,3]]\n",
    "labels = le.fit_transform(data.iloc[:,3])\n",
    "x_train, x_test, y_train, y_test = train_test_split(lyric_list,labels, train_size=0.8,test_size = 0.2)\n"
   ]
  },
  {
   "cell_type": "code",
   "execution_count": 18,
   "metadata": {},
   "outputs": [],
   "source": [
    "#Training Set \n",
    "lyric_train_sub = process_features(x_train)\n",
    "lyric_train_label = y_train\n",
    "\n",
    "#Test set \n",
    "lyric_test_sub = process_features(x_test)\n",
    "lyric_test_label = y_test\n"
   ]
  },
  {
   "cell_type": "markdown",
   "metadata": {},
   "source": [
    "### Feature Extraction\n",
    "##### Bag Of Words Approach"
   ]
  },
  {
   "cell_type": "code",
   "execution_count": 19,
   "metadata": {
    "scrolled": true
   },
   "outputs": [
    {
     "name": "stdout",
     "output_type": "stream",
     "text": [
      "(1617, 342)\n",
      "(405, 342)\n"
     ]
    }
   ],
   "source": [
    "from sklearn.feature_extraction.text import CountVectorizer\n",
    "from sklearn.feature_extraction.text import TfidfVectorizer\n",
    "matrix = CountVectorizer()\n",
    "trainX = matrix.fit_transform(lyric_train_sub).toarray()\n",
    "lyric_train = trainX\n",
    "# print(np.shape(lyric_train))\n",
    "\n",
    "testX = matrix.transform(lyric_test_sub).toarray()\n",
    "lyric_test = testX\n",
    "# print(np.shape(lyric_test))"
   ]
  },
  {
   "cell_type": "markdown",
   "metadata": {},
   "source": [
    "# CLASSIFIER"
   ]
  },
  {
   "cell_type": "markdown",
   "metadata": {},
   "source": [
    "### Logistical Regression"
   ]
  },
  {
   "cell_type": "code",
   "execution_count": 27,
   "metadata": {
    "scrolled": false
   },
   "outputs": [],
   "source": [
    "## LOGISTICAL REGRESSION\n",
    "\n",
    "#Cross Validation for LogisticRegression\n",
    "\n",
    "parameter_lr = {'C': [0.001,0.01,1,100,1000],'penalty':('l1','l2')}\n",
    "lr = LogisticRegression(multi_class = 'ovr')\n",
    "clf = GridSearchCV(lr,parameter_lr,cv=5)\n",
    "clf.fit(lyric_train,lyric_train_label)\n",
    "lyric_train_label_predict = clf.predict(lyric_train)\n",
    "lyric_test_label_predict = clf.predict(lyric_test)\n"
   ]
  },
  {
   "cell_type": "code",
   "execution_count": 28,
   "metadata": {},
   "outputs": [
    {
     "data": {
      "image/png": "[encoded data removed]",
      "text/plain": [
       "<matplotlib.figure.Figure at 0x1a21143cf8>"
      ]
     },
     "metadata": {},
     "output_type": "display_data"
    },
    {
     "name": "stdout",
     "output_type": "stream",
     "text": [
      "             precision    recall  f1-score   support\n",
      "\n",
      "    class 0       0.38      0.31      0.34        97\n",
      "    class 1       0.46      0.68      0.55       164\n",
      "    class 2       0.48      0.28      0.36       144\n",
      "\n",
      "avg / total       0.45      0.45      0.43       405\n",
      "\n",
      "Train Accuracy:  0.551638837353123 \t Test Accuracy:  0.44938271604938274\n",
      "Train Precision:  0.5840152335659395 \t Test Precision:  0.44188200391408955\n",
      "Train Recall:  0.5221230113895183 \t Test Recall:  0.42360994701012306\n",
      "Train F1 Score:  0.5252007126649 \t Test F1 Score:  0.4159112583446269\n"
     ]
    }
   ],
   "source": [
    "plt.figure\n",
    "#Compute Confusion Matrix\n",
    "cnf_matrix = confusion_matrix(lyric_test_label, lyric_test_label_predict)\n",
    "plt.imshow(cnf_matrix, interpolation='nearest',cmap=plt.cm.Blues)\n",
    "plt.title('Confusion Matrix')\n",
    "thresh = cnf_matrix.max() / 2.\n",
    "plt.colorbar()\n",
    "for i, j in itertools.product(range(cnf_matrix.shape[0]), range(cnf_matrix.shape[1])):\n",
    "    plt.text(j, i, format(cnf_matrix[i, j], 'd'),horizontalalignment=\"center\",color=\"white\" if cnf_matrix[i, j] > thresh else \"black\")\n",
    "\n",
    "plt.ylabel('True label')\n",
    "plt.xlabel('Predicted label')\n",
    "plt.tight_layout()\n",
    "\n",
    "plt.show()\n",
    "\n",
    "#Classification Report\n",
    "target_names = ['class 0', 'class 1', 'class 2']\n",
    "print(classification_report(lyric_test_label, lyric_test_label_predict, target_names=target_names))\n",
    "\n",
    "#Accuracy, Precision, Recall, F1score\n",
    "accuracy_train = accuracy_score(lyric_train_label,lyric_train_label_predict)\n",
    "accuracy_test = accuracy_score(lyric_test_label,lyric_test_label_predict)\n",
    "print(\"Train Accuracy: \",accuracy_train,'\\t',\"Test Accuracy: \",accuracy_test)\n",
    "\n",
    "precision_train= precision_score(lyric_train_label,lyric_train_label_predict,average = 'macro')\n",
    "precision_test =  precision_score(lyric_test_label,lyric_test_label_predict,average = 'macro')\n",
    "print(\"Train Precision: \",precision_train,'\\t',\"Test Precision: \",precision_test)\n",
    "\n",
    "recall_train= recall_score(lyric_train_label,lyric_train_label_predict,average = 'macro')\n",
    "recall_test =  recall_score(lyric_test_label,lyric_test_label_predict,average = 'macro')    \n",
    "print(\"Train Recall: \",recall_train,'\\t',\"Test Recall: \",recall_test) \n",
    "\n",
    "f1_train = f1_score(lyric_train_label,lyric_train_label_predict,average = 'macro')\n",
    "f1_test = f1_score(lyric_test_label,lyric_test_label_predict,average = 'macro')\n",
    "print(\"Train F1 Score: \",f1_train,'\\t',\"Test F1 Score: \",f1_test)\n",
    "\n"
   ]
  },
  {
   "cell_type": "code",
   "execution_count": null,
   "metadata": {},
   "outputs": [],
   "source": []
  }
 ],
 "metadata": {
  "kernelspec": {
   "display_name": "Python 3",
   "language": "python",
   "name": "python3"
  },
  "language_info": {
   "codemirror_mode": {
    "name": "ipython",
    "version": 3
   },
   "file_extension": ".py",
   "mimetype": "text/x-python",
   "name": "python",
   "nbconvert_exporter": "python",
   "pygments_lexer": "ipython3",
   "version": "3.6.4"
  }
 },
 "nbformat": 4,
 "nbformat_minor": 2
}
