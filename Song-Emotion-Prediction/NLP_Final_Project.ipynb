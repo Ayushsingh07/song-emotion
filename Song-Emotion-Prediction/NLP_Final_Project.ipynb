{
 "cells": [
  {
   "cell_type": "code",
   "execution_count": 19,
   "metadata": {},
   "outputs": [],
   "source": [
    "import numpy as np \n",
    "import pandas as pd\n",
    "import string \n",
    "import nltk\n",
    "import re\n",
    "from bs4 import BeautifulSoup\n",
    "import requests\n",
    "from string import punctuation\n",
    "stopword = nltk.corpus.stopwords.words('english')\n",
    "\n",
    "\n",
    "from sklearn.feature_extraction.text import CountVectorizer\n",
    "from sklearn.feature_extraction.text import TfidfVectorizer\n",
    "from sklearn.linear_model import LogisticRegression\n",
    "from sklearn.ensemble import RandomForestClassifier\n",
    "from sklearn.svm import SVC\n",
    "from sklearn import preprocessing\n",
    "from sklearn.metrics import accuracy_score\n",
    "from sklearn.naive_bayes import GaussianNB, BernoulliNB, MultinomialNB\n",
    "from sklearn.multiclass import OneVsRestClassifier\n",
    "from sklearn.model_selection import train_test_split\n",
    "from sklearn.metrics import f1_score\n",
    "\n",
    "wn = nltk.WordNetLemmatizer()\n",
    "le = preprocessing.LabelEncoder()"
   ]
  },
  {
   "cell_type": "code",
   "execution_count": null,
   "metadata": {},
   "outputs": [],
   "source": [
    "url = data.iloc[:,2]\n",
    "lyric_list = []\n",
    "for URL in url:\n",
    "    page = requests.get(URL)\n",
    "    html = BeautifulSoup(page.text, \"html.parser\") # Extract the page's HTML as a string\n",
    "\n",
    "    # Scrape the song lyrics from the HTML\n",
    "    lyrics = html.find(\"div\", class_=\"lyrics\").get_text()\n",
    "    lyric_list.append(lyrics)\n",
    "%store lyric_list"
   ]
  },
  {
   "cell_type": "code",
   "execution_count": 3,
   "metadata": {},
   "outputs": [
    {
     "name": "stdout",
     "output_type": "stream",
     "text": [
      "2022\n"
     ]
    }
   ],
   "source": [
    "%store -r lyric_list\n",
    "print(len(lyric_list))"
   ]
  },
  {
   "cell_type": "markdown",
   "metadata": {},
   "source": [
    "# BASELINE APPROACH"
   ]
  },
  {
   "cell_type": "code",
   "execution_count": null,
   "metadata": {},
   "outputs": [],
   "source": []
  },
  {
   "cell_type": "markdown",
   "metadata": {},
   "source": [
    "# PROJECT CODE"
   ]
  },
  {
   "cell_type": "code",
   "execution_count": 5,
   "metadata": {},
   "outputs": [],
   "source": [
    "data = pd.read_csv('final_song_data.csv',delimiter=',',header =None)\n",
    "artist_name = data.iloc[:,0]\n",
    "song_name = data.iloc[:,1]\n",
    "data_set = [list(data_row) for data_row in zip(artist_name,song_name,lyric_list)]\n",
    "labels = le.fit_transform(data.iloc[:,3])"
   ]
  },
  {
   "cell_type": "code",
   "execution_count": 6,
   "metadata": {},
   "outputs": [],
   "source": [
    "def process_features(data_set):\n",
    "    \n",
    "    lyric_list_new = []\n",
    "    artist_name_new = []\n",
    "    song_name_new = []\n",
    "    chorus_list = []\n",
    "    verse_list = []\n",
    "    bridge_list = []\n",
    "    hook_list = []\n",
    "    intro_list = []\n",
    "    outro_list = []\n",
    "    song_length = []\n",
    "    for dat in data_set:\n",
    "        s = dat[2]\n",
    "        chorus_list.append(len(re.findall('\\[Chorus', s)))\n",
    "        verse_list.append(len(re.findall('\\[Verse', s)))\n",
    "        hook_list.append(len(re.findall('\\[Hook', s)))\n",
    "        bridge_list.append(len(re.findall('\\[Bridge', s)))\n",
    "        intro_list.append(len(re.findall('\\[Intro', s)))\n",
    "        outro_list.append(len(re.findall('\\[Outro', s)))\n",
    "\n",
    "        v = s.split(\"\\n\")\n",
    "        song_length.append(len(v))\n",
    "        for i in v:\n",
    "            d = re.sub(\"^\\[(.*)]\",\"\",i)\n",
    "            v[v.index(i)] = d\n",
    "        lyric_list_new.append(\"\\n\".join(v))       \n",
    "        \n",
    "        artist_name_new.append(dat[0])\n",
    "        song_name_new.append(dat[1])\n",
    "\n",
    "   \n",
    "    for element in range(1,len(lyric_list_new)): \n",
    "        \n",
    "        #LYRICS\n",
    "        lyric_list_new[element] =lyric_list_new[element].replace(\"'\",\" \")\n",
    "        lyric_list_new[element] = re.sub(r'[^\\w\\s]','',lyric_list_new[element])\n",
    "        lyric_list_new[element] = nltk.word_tokenize(lyric_list_new[element])\n",
    "        not_stopword_list = [word.lower() for word in lyric_list_new[element] if word.lower() not in stopword]\n",
    "        t = \" \".join([wn.lemmatize(word) for word in not_stopword_list])\n",
    "        lyric_list_new[element]=t\n",
    "        \n",
    "        #ARTIST\n",
    "        artist_name_new[element] =artist_name_new[element].replace(\",\",\"\")\n",
    "        artist_name_new[element] =artist_name_new[element].replace(\"&\",\"\")\n",
    "\n",
    "        \n",
    "        #SONG TITLE\n",
    "        song_name_new[element] =song_name_new[element].replace(\"'\",\" \")\n",
    "        song_name_new[element] = re.sub(r'[^\\w\\s]','',song_name_new[element])\n",
    "        song_name_new[element] = nltk.word_tokenize(song_name_new[element])\n",
    "        not_stopword_list = [word.lower() for word in song_name_new[element] if word.lower() not in stopword]\n",
    "        t = \" \".join([wn.lemmatize(word) for word in not_stopword_list])\n",
    "        song_name_new[element]=t\n",
    "        \n",
    "    data_set_new = [artist_name_new,song_name_new,lyric_list_new]\n",
    "    lyric_all = np.vstack((np.array(chorus_list),np.array(verse_list),np.array(bridge_list),np.array(hook_list),np.array(intro_list),np.array(outro_list),np.array(song_length)))\n",
    "    lyric_all = np.transpose(lyric_all)\n",
    "    return data_set_new,lyric_all"
   ]
  },
  {
   "cell_type": "code",
   "execution_count": 15,
   "metadata": {},
   "outputs": [
    {
     "name": "stdout",
     "output_type": "stream",
     "text": [
      "['182', '1975', '21', '2pac', '40', '50', '6ix9ine', '6lack', 'ab', 'abstract', 'accept', 'ace', 'action', 'adele', 'after', 'again', 'against', 'aiko', 'alan', 'alessia', 'aloe', 'alt', 'alter', 'am', 'amarante', 'ambassadors', 'aminé', 'amy', 'and', 'andrew', 'animals', 'anne', 'aoki', 'ap', 'appeal', 'archies', 'arctic', 'ariana', 'armstrong', 'arthur', 'astaire', 'at', 'atari', 'atb', 'attractions', 'avicii', 'axwell', 'ayo', 'azalea', 'azealia', 'baby', 'backstreet', 'bacon', 'bad', 'baddiel', 'balvin', 'bandit', 'bangles', 'bangz', 'banks', 'barry', 'bastard', 'battalion', 'battles', 'beal', 'beard', 'beastie', 'beatles', 'bebe', 'belle', 'bellion', 'ben', 'benny', 'bethel', 'beyonce', 'beyoncé', 'bhabie', 'bhad', 'bieber', 'big', 'billie', 'billy', 'bishop', 'bizarre', 'bizkit', 'blacc', 'black', 'blackbear', 'blake', 'blanco', 'bleu', 'blink', 'blocboy', 'bloodpop', 'blue', 'bob', 'bobby', 'bon', 'bone', 'boogie', 'boomin', 'boomtown', 'boy', 'boys', 'boyz', 'brandon', 'brian', 'bridge', 'briggs', 'brinsley', 'broadway', 'brockhampton', 'broke', 'bronson', 'brothers', 'brown', 'bruno', 'bryson', 'buckley', 'buffett', 'bunny', 'burdon', 'cab', 'cabello', 'caesar', 'cage', 'calum', 'calvin', 'cam', 'camila', 'camp', 'capaldi', 'cara', 'cardi', 'carey', 'carters', 'carti', 'cash', 'cast', 'cat', 'cent', 'chain', 'chainsmokers', 'chainz', 'chance', 'charli', 'charlie', 'cheat', 'cheer', 'chief', 'childish', 'chili', 'chocolate', 'chris', 'christmas', 'cigarettes', 'city', 'clan', 'clapton', 'clash', 'clean', 'clement', 'club', 'cnco', 'codes', 'coldplay', 'cole', 'colerick', 'control', 'coolio', 'costello', 'county', 'cowsills', 'cranberries', 'crazy', 'creator', 'crystals', 'cube', 'cudi', 'cupcakke', 'curry', 'cutie', 'cyndi', 'cyrus', 'céline', 'da', 'daddy', 'daft', 'damian', 'daniel', 'danny', 'dave', 'david', 'davido', 'dead', 'dean', 'dear', 'death', 'deep', 'dej', 'del', 'demi', 'denver', 'denzel', 'derulo', 'desiigner', 'dex', 'dicky', 'dion', 'diplo', 'direction', 'dirty', 'disco', 'disney', 'dj', 'dmx', 'dnce', 'dogg', 'doja', 'doll', 'dolla', 'domino', 'don', 'donnie', 'doors', 'dorsey', 'down', 'dr', 'dragons', 'drake', 'dram', 'dre', 'dreezy', 'dua', 'durk', 'dylan', 'eagles', 'earl', 'earlwolf', 'earth', 'east', 'eazy', 'ed', 'eden', 'efron', 'eggs', 'eilish', 'elisa', 'ellie', 'elliott', 'elton', 'elvis', 'emily', 'eminem', 'emma', 'enemy', 'entombed', 'epic', 'eric', 'erin', 'evan', 'evil', 'ex', 'experience', 'experiment', 'fabolous', 'faces', 'famous', 'fastball', 'fat', 'fats', 'fear', 'featuring', 'ferg', 'fetty', 'fiasco', 'fifth', 'fighters', 'fire', 'five', 'flag', 'flatbush', 'fleetwood', 'flume', 'folds', 'foo', 'for', 'formby', 'foster', 'frank', 'frankie', 'fray', 'fred', 'french', 'frenship', 'frou', 'fugazi', 'fugees', 'fun', 'future', 'futuristic', 'gaga', 'gambino', 'game', 'gang', 'garfunkel', 'garrix', 'gary', 'gates', 'gemini', 'genius', 'george', 'girls', 'glynne', 'god', 'goldlink', 'gomez', 'gorillaz', 'gosling', 'gotti', 'gotye', 'goulding', 'grace', 'graham', 'grande', 'great', 'grey', 'grits', 'grizzley', 'gucci', 'guetta', 'gun', 'gunna', 'guns', 'guy', 'ha', 'hailee', 'halsey', 'hank', 'hansen', 'harmony', 'harpers', 'harris', 'harry', 'harvey', 'hendrix', 'herbo', 'hilfigerrr', 'hill', 'hippy', 'history', 'hole', 'homie', 'hood', 'hoodie', 'hopsin', 'horan', 'horse', 'hot', 'houston', 'hozier', 'hrvy', 'huey', 'hugh', 'ice', 'idubbbz', 'iggy', 'ign', 'ilovemakonnen', 'ilovememphis', 'imagine', 'immortal', 'impala', 'inc', 'inch', 'ingrosso', 'insanity', 'isaak', 'isaiah', 'it', 'iver', 'jackman', 'jackson', 'jaden', 'jake', 'jam', 'james', 'jan', 'jane', 'janelle', 'jasmin', 'jason', 'jay', 'jb', 'jean', 'jeff', 'jemaine', 'jeremih', 'jerry', 'jess', 'jessie', 'jesus', 'jhené', 'jidenna', 'jim', 'jimi', 'jimmy', 'joe', 'joel', 'john', 'johnny', 'joji', 'jon', 'jonas', 'jordan', 'journey', 'joy', 'joyner', 'jr', 'judas', 'juice', 'juicy', 'jules', 'julia', 'justin', 'kanye', 'kash', 'katy', 'keala', 'keef', 'kehlani', 'kelly', 'kendrick', 'kennedys', 'kenner', 'kevin', 'khaled', 'khalid', 'khalifa', 'kid', 'kiiara', 'killers', 'kinks', 'kirko', 'knight', 'knockerz', 'kodak', 'kolacny', 'korn', 'kygo', 'kyle', 'la', 'lady', 'lamar', 'lana', 'lance', 'land', 'lanez', 'lany', 'lauper', 'lauryn', 'lauv', 'lazer', 'lazy', 'lean', 'led', 'lee', 'legend', 'lewis', 'liam', 'lightning', 'lil', 'limp', 'lin', 'linkin', 'lipa', 'loaf', 'logan', 'logic', 'lorde', 'lot', 'louis', 'lovato', 'loverance', 'lovin', 'lowry', 'lsd', 'lucas', 'lukas', 'lund', 'luniz', 'lupe', 'luthor', 'ma', 'mac', 'machine', 'macklemore', 'made', 'madeintyo', 'madeon', 'maejor', 'major', 'malone', 'man', 'mane', 'manuel', 'maren', 'mariah', 'marie', 'mark', 'marley', 'maroon', 'mars', 'marshmello', 'martin', 'mary', 'mask', 'mass', 'max', 'mc5', 'mccarley', 'mccoys', 'mcguire', 'mclachlan', 'mclean', 'mechanics', 'meek', 'meets', 'meghan', 'mendes', 'metallica', 'metro', 'michael', 'michaels', 'migos', 'miguel', 'mike', 'miley', 'mill', 'miller', 'minaj', 'ministry', 'minor', 'miracles', 'miranda', 'misfits', 'missy', 'mix', 'mob', 'mobb', 'money', 'monkees', 'monkeys', 'montana', 'monáe', 'morris', 'motörhead', 'mouth', 'mraz', 'mudhoney', 'mungo', 'music', 'n9ne', 'nahmir', 'naija', 'nails', 'nas', 'nav', 'neighbourhood', 'neiked', 'neil', 'never', 'news', 'nf', 'niall', 'nickelback', 'nicki', 'nico', 'nina', 'nine', 'nirvana', 'notorious', 'oasis', 'ocean', 'odd', 'of', 'offset', 'ol', 'one', 'onerepublic', 'onyx', 'ora', 'orange', 'original', 'our', 'outkast', 'panic', 'pantera', 'parachute', 'paramore', 'park', 'partynextdoor', 'passenger', 'pastor', 'patrol', 'paul', 'payne', 'paz', 'peace', 'pearl', 'peep', 'people', 'peppers', 'pernice', 'perry', 'petty', 'pharrell', 'piano', 'pilots', 'pink', 'pistols', 'pixies', 'pj', 'platten', 'playboi', 'pnb', 'pointer', 'porter', 'portugal', 'posner', 'post', 'preme', 'presley', 'pretenders', 'priest', 'prodigy', 'productions', 'ptaf', 'public', 'puff', 'pump', 'punk', 'pusha', 'puth', 'quality', 'quan', 'que', 'queen', 'quiet', 'rachel', 'radiohead', 'rae', 'rage', 'ramz', 'rap', 'rapper', 'rashad', 'rats', 'ray', 'rbe', 'rebecca', 'records', 'red', 'regina', 'remy', 'renae', 'rex', 'rexha', 'rey', 'rice', 'ricegum', 'rich', 'rick', 'righteous', 'rihanna', 'riot', 'rita', 'rob', 'robbie', 'robin', 'robinson', 'rock', 'rocko', 'rocky', 'rodrigo', 'ronson', 'roses', 'ross', 'rowland', 'roy', 'rudimental', 'run', 'russ', 'rusty', 'ryan', 'sage', 'salt', 'salvato', 'sam', 'sarah', 'savage', 'scala', 'schoolboy', 'schwarz', 'scott', 'sean', 'sebastian', 'seconds', 'seeds', 'selena', 'settle', 'sevyn', 'sex', 'shaggy', 'shaq', 'shawn', 'sheeran', 'shmurda', 'sia', 'side', 'simon', 'simone', 'sir', 'sisters', 'sivan', 'skepta', 'ski', 'skies', 'skinner', 'skrillex', 'slim', 'slump', 'small', 'smash', 'smith', 'smokey', 'snake', 'snakehips', 'snoop', 'snow', 'sob', 'social', 'solange', 'songs', 'soul', 'soulja', 'speaker', 'spektor', 'spice', 'spoonful', 'sremmurd', 'standells', 'stapleton', 'starley', 'steinfeld', 'steve', 'stevie', 'stooges', 'stormzy', 'straus', 'streeter', 'styles', 'sugar', 'summer', 'sweatshirt', 'swift', 'sydney', 'system', 'sza', 'tame', 'tang', 'tay', 'taylor', 'team', 'tear', 'tech', 'technique', 'tee', 'teenage', 'temper', 'temptations', 'teo', 'the', 'thicke', 'threat', 'thug', 'thugs', 'tiller', 'timberlake', 'tinashe', 'tink', 'tlc', 'todd', 'tom', 'tomlinson', 'tone', 'tory', 'toto', 'town', 'tracy', 'trainor', 'trap', 'travis', 'trinidad', 'troye', 'trumpet', 'turtles', 'twenty', 'ty', 'tyga', 'tyler', 'u2', 'ugk', 'ugly', 'up', 'usher', 'uzi', 'valli', 'vampire', 'vance', 'vandross', 'vert', 'veruca', 'verve', 'vinnie', 'vinz', 'wale', 'walia', 'walker', 'walt', 'wap', 'warren', 'watsky', 'watson', 'wayne', 'weekend', 'weeknd', 'weezer', 'wes', 'west', 'wham', 'whitney', 'will', 'williams', 'wind', 'winehouse', 'wit', 'witt', 'wiz', 'wonder', 'woods', 'world', 'wrld', 'wu', 'xan', 'xcx', 'xo', 'xxxtentacion', 'yachty', 'ybn', 'yelawolf', 'yg', 'ylvis', 'yo', 'young', 'youngboy', 'yung', 'zac', 'zack', 'zaifman', 'zay', 'zayn', 'zedd', 'zeppelin', 'ziv', 'zombies']\n",
      "['03', '10', '100', '11', '13', '14', '17', '18002738255', '19', '1997', '1night', '1train', '20', '2002', '21', '212', '23', '231', '24k', '25', '26', '27', '28', '28th', '29', '2u', '30', '3005', '305', '31', '32', '33', '34', '35', '37', '39', '3hunna', '44', '444', '4pm', '500', '56', '59th', '5am', '679', '6pm', '700', '90210', '911', '99', 'aaron', 'account', 'ace', 'acid', 'adam', 'adaptation', 'addicted', 'adhd', 'adios', 'administration', 'adorn', 'affection', 'afraid', 'africa', 'air', 'aka', 'alarm', 'album', 'alexander', 'alike', 'alive', 'alone', 'alright', 'always', 'ambition', 'amen', 'america', 'american', 'americana', 'amerika', 'amerikkka', 'angel', 'anger', 'another', 'anthem', 'antidote', 'anymore', 'apart', 'apartment', 'apologize', 'appalled', 'apparently', 'arose', 'as', 'asian', 'ask', 'asshole', 'aston', 'attention', 'attitude', 'autumn', 'away', 'ayo', 'baby', 'babywipe', 'back', 'backseat', 'bad', 'bag', 'ball', 'balloon', 'bandz', 'bang', 'bank', 'bar', 'barbie', 'barbies', 'barcelona', 'barking', 'bartier', 'bass', 'bastard', 'bath', 'battery', 'battle', 'bawitdaba', 'beam', 'beamer', 'beat', 'beatles', 'beautiful', 'beauty', 'bedrock', 'behavior', 'beibs', 'bein', 'belfort', 'believe', 'believer', 'believin', 'bell', 'belle', 'belong', 'ben', 'benz', 'berry', 'berzerk', 'best', 'betrayed', 'better', 'beware', 'beyoncé', 'bibia', 'bich', 'bickenhead', 'big', 'bill', 'billy', 'bird', 'birthday', 'bitch', 'black', 'blacker', 'blame', 'blank', 'blem', 'bless', 'blessed', 'blessing', 'bling', 'blood', 'blow', 'blower', 'blowin', 'blue', 'blunt', 'blurred', 'bobby', 'bodak', 'body', 'bohemian', 'bom', 'bomb', 'bombtrack', 'bonnie', 'boo', 'boot', 'booth', 'boredom', 'bos', 'bottom', 'boujee', 'bounce', 'bound', 'bout', 'bow', 'boy', 'brain', 'brainer', 'brainless', 'bratz', 'break', 'breakdown', 'breaking', 'breezeblocks', 'brick', 'bridge', 'brightside', 'bring', 'bro', 'broccoli', 'broke', 'broken', 'bruise', 'bugatti', 'bullet', 'bummer', 'buried', 'burn', 'burning', 'burr', 'butter', 'butterfly', 'cabinet', 'cake', 'calabasas', 'caldonia', 'california', 'call', 'calling', 'calm', 'camera', 'candle', 'candy', 'capital', 'capsize', 'car', 'cardi', 'care', 'careful', 'caroline', 'carousel', 'carry', 'cartoon', 'casting', 'castle', 'cat', 'catch', 'caught', 'celebration', 'cereal', 'cha', 'chain', 'chained', 'champion', 'chance', 'chandelier', 'chanel', 'change', 'chaos', 'charged', 'charlie', 'chasing', 'cheap', 'check', 'chicken', 'child', 'chill', 'chloraseptic', 'chocolate', 'choice', 'choo', 'choose', 'chop', 'chopper', 'christmas', 'chum', 'church', 'ciao', 'cinderella', 'citiez', 'city', 'classic', 'climax', 'clint', 'clique', 'close', 'closer', 'clothes', 'club', 'clyde', 'coast', 'coaster', 'cocoa', 'codeine', 'cold', 'cole', 'collapse', 'collard', 'color', 'colossus', 'come', 'comfort', 'comfortable', 'coming', 'commandment', 'communication', 'company', 'complex', 'compton', 'concrete', 'congratulation', 'connect', 'conscience', 'consequence', 'consideration', 'control', 'controlla', 'copycat', 'cost', 'could', 'counting', 'country', 'court', 'cowboy', 'crack', 'crane', 'crank', 'crawl', 'crazy', 'cream', 'creature', 'credit', 'creep', 'crew', 'crime', 'criminal', 'crossroad', 'crush', 'cry', 'cup', 'curious', 'cut', 'da', 'daddy', 'damage', 'dance', 'dancing', 'dangerous', 'danny', 'dark', 'dash', 'dat', 'daughter', 'davidson', 'dawn', 'day', 'dead', 'deadz', 'dear', 'death', 'deep', 'deepthroat', 'delete', 'delicate', 'delivered', 'delivery', 'demon', 'denim', 'depression', 'desire', 'destroy', 'destruction', 'detox', 'detroit', 'devil', 'diamond', 'die', 'digger', 'diggy', 'digital', 'diplomatic', 'dirty', 'disposition', 'disturb', 'dive', 'dj', 'dm', 'dna', 'dnf', 'doctor', 'dog', 'dollar', 'domo23', 'done', 'doo', 'door', 'dope', 'downtown', 'draco', 'draft', 'drama', 'drank', 'dre', 'dream', 'dreaming', 'dreamz', 'dress', 'drill', 'drip', 'drop', 'drug', 'drunk', 'duckworth', 'duel', 'duet', 'dumb', 'dump', 'duppy', 'dusk', 'dy', 'dying', 'dynamite', 'earl', 'earned', 'east', 'eastside', 'eastwood', 'eet', 'effect', 'egyptian', 'eight', 'einstein', 'elastic', 'eleanor', 'element', 'elevate', 'else', 'em', 'en', 'encore', 'end', 'ending', 'energy', 'english', 'enough', 'episode', 'eraser', 'esskeetit', 'ether', 'eton', 'eve', 'even', 'ever', 'every', 'everybody', 'everyday', 'everything', 'everywhere', 'ex', 'excellence', 'exchange', 'excited', 'exodus', 'extended', 'eye', 'eyez', 'face', 'fact', 'fade', 'faded', 'faithful', 'fake', 'fall', 'fallin', 'falling', 'false', 'family', 'famous', 'fancy', 'faneto', 'fantasy', 'far', 'farm', 'fashion', 'fast', 'fat', 'father', 'favor', 'fear', 'feedback', 'feel', 'feelin', 'feeling', 'fefe', 'ferrari', 'fetish', 'feud', 'fever', 'fight', 'fine', 'finesse', 'fingertip', 'fire', 'firework', 'first', 'flashlight', 'flawless', 'flex', 'flip', 'flockin', 'floor', 'flop', 'flores', 'flow', 'flower', 'focus', 'foldin', 'follow', 'food', 'foot', 'forbidden', 'ford', 'forever', 'forrest', 'found', 'fourfiveseconds', 'fox', 'fragile', 'framed', 'fraud', 'freak', 'free', 'freedom', 'freestyle', 'freezer', 'friday', 'friend', 'fruit', 'fuck', 'fuckin', 'funk', 'furious', 'futw', 'galore', 'galway', 'game', 'gang', 'gangsta', 'garden', 'gasoline', 'geek', 'genie', 'genius', 'get', 'getaway', 'ghost', 'ghostface', 'gim', 'gin', 'ginseng', 'girl', 'give', 'glass', 'glorious', 'glover', 'glow', 'go', 'goblin', 'god', 'godspeed', 'gogo', 'going', 'gold', 'goldie', 'gon', 'gone', 'good', 'goodbye', 'goosebump', 'gorgeous', 'got', 'gotti', 'grail', 'grammys', 'grass', 'greatest', 'green', 'greener', 'grenade', 'grew', 'grief', 'grigori', 'groovy', 'ground', 'grow', 'guap', 'gucci', 'guilt', 'guilty', 'gummo', 'gump', 'gun', 'gut', 'guwop', 'guy', 'gyalchester', 'halftime', 'hallelujah', 'halo', 'hamilton', 'hand', 'hang', 'happier', 'happiness', 'happy', 'harder', 'hate', 'hatin', 'hating', 'hayaan', 'head', 'headband', 'headlight', 'headline', 'health', 'heard', 'heart', 'heartbeat', 'heartless', 'heat', 'heaven', 'heavy', 'helium', 'hell', 'help', 'helpless', 'hercules', 'hey', 'hi', 'high', 'highlight', 'hill', 'hippy', 'history', 'hit', 'hive', 'hold', 'holdin', 'hole', 'holy', 'home', 'homecoming', 'homemade', 'homies', 'honey', 'hood', 'hope', 'hopsin', 'horse', 'host', 'hot', 'hotel', 'hotline', 'hour', 'house', 'hunger', 'hurricane', 'hurt', 'hymn', 'ibiza', 'ice', 'icon', 'idontwannabeyouanymore', 'ignition', 'ii', 'ill', 'illest', 'illuminate', 'immigrant', 'immortal', 'immunity', 'imsippinteainyohood', 'inc', 'inch', 'indeed', 'information', 'initiation', 'inn', 'inside', 'instant', 'institutionalized', 'interlude', 'international', 'intro', 'ispy', 'issue', 'itchycoo', 'iv', 'iverson', 'ivy', 'jackson', 'jake', 'jam', 'january', 'japan', 'japanese', 'jay', 'jealous', 'jersey', 'jesus', 'jig', 'jimmy', 'jingle', 'jocelyn', 'jodeci', 'johnson', 'joke', 'jordan', 'joseph', 'jude', 'juice', 'juicy', 'juju', 'jumpman', 'jungle', 'justice', 'kamikaze', 'kanye', 'karate', 'keep', 'keke', 'kelly', 'key', 'kick', 'kid', 'kill', 'killa', 'killer', 'killing', 'killshot', 'kindest', 'king', 'kiss', 'kiwi', 'kmt', 'knife', 'knob', 'knockin', 'know', 'kod', 'kooda', 'krushgroove', 'kyoto', 'la', 'lamborghini', 'lamp', 'land', 'landslide', 'lane', 'last', 'late', 'later', 'law', 'lay', 'le', 'leaf', 'lean', 'leaning', 'learn', 'leather', 'leave', 'left', 'legend', 'lemon', 'lento', 'leone', 'lesson', 'let', 'letter', 'liability', 'liar', 'lie', 'life', 'lifestyle', 'lift', 'light', 'like', 'limit', 'line', 'lion', 'lip', 'liquor', 'little', 'litty', 'live', 'living', 'llif3', 'lockjaw', 'loft', 'lol', 'lolly', 'london', 'lonely', 'lonesome', 'long', 'look', 'lookin', 'loot', 'lord', 'lose', 'loser', 'losin', 'losing', 'lost', 'loud', 'love', 'loveeeeeee', 'lovehate', 'lovesick', 'loving', 'low', 'loyal', 'loyalty', 'lucid', 'lucky', 'lust', 'maad', 'mad', 'made', 'madiba', 'madness', 'madonna', 'magic', 'magnolia', 'make', 'malibu', 'mama', 'mamacita', 'man', 'many', 'march', 'margaritaville', 'margin', 'maria', 'marie', 'mariner', 'mark', 'marshall', 'martian', 'martin', 'marvin', 'mask', 'master', 'mathers', 'matrimony', 'matter', 'mc', 'mean', 'meant', 'meat', 'medicine', 'melody', 'member', 'memory', 'men', 'mentality', 'mess', 'metal', 'method', 'mi', 'miami', 'middle', 'midnight', 'miley', 'milk', 'million', 'mind', 'mine', 'minnesota', 'mirror', 'miss', 'missing', 'mistake', 'mo', 'mobbin', 'mode', 'modelz', 'molly', 'mom', 'moment', 'monday', 'money', 'monkey', 'monster', 'moonlight', 'mooo', 'morning', 'mortal', 'morton', 'motherfucker', 'motion', 'motorsport', 'move', 'mr', 'much', 'mulligan', 'murder', 'music', 'must', 'muthaphuckkin', 'mwah', 'na', 'nah', 'naked', 'name', 'nancy', 'national', 'need', 'needed', 'never', 'neverland', 'new', 'next', 'nice', 'nico', 'nigga', 'niggaz', 'night', 'nightmare', 'nikki', 'niner', 'nobody', 'nocturnal', 'noise', 'nonstop', 'normal', 'nose', 'nosetalgia', 'nothin', 'nothing', 'notorious', 'novacane', 'nowadays', 'numb', 'number', 'ny', 'obedient', 'obsession', 'ocean', 'often', 'og', 'oh', 'oj', 'okay', 'old', 'oldie', 'one', 'ooh', 'open', 'option', 'orange', 'ordinary', 'orlando', 'otherside', 'otis', 'outro', 'outside', 'outta', 'overtime', 'pablo', 'paean', 'pain', 'paint', 'palace', 'pale', 'palm', 'pamphlet', 'panda', 'pant', 'paper', 'paradise', 'paramedic', 'paranoid', 'paris', 'park', 'part', 'party', 'passionfruit', 'patience', 'patiently', 'paul', 'payphone', 'peace', 'peek', 'people', 'perfect', 'periodic', 'person', 'personal', 'peso', 'pete', 'phenomenal', 'phoenix', 'phone', 'photograph', 'piano', 'picasso', 'pick', 'picture', 'pie', 'pill', 'pillow', 'pillowtalk', 'pink', 'pissing', 'plan', 'plane', 'planez', 'plastic', 'play', 'player', 'please', 'plug', 'pmw', 'poetic', 'poison', 'politics', 'pony', 'pool', 'poor', 'pop', 'poppa', 'portland', 'post', 'potion', 'pound', 'power', 'practice', 'pray', 'prblms', 'pretty', 'price', 'prisoner', 'privacy', 'privilege', 'problem', 'professional', 'promise', 'prophet', 'proud', 'psycho', 'pt', 'pull', 'pumped', 'purple', 'pursuit', 'pussy', 'quan', 'queen', 'question', 'race', 'racist', 'rack', 'radio', 'radioactive', 'raid', 'rain', 'rainbow', 'rake', 'rap', 'rapper', 'rappin', 'rasputin', 'rather', 'ready', 'real', 'reality', 'really', 'reason', 'recipe', 'reckless', 'recognize', 'red', 'redbone', 'redemption', 'regard', 'reggaetón', 'regular', 'reign', 'related', 'religion', 'rella', 'remedy', 'remember', 'reminder', 'remix', 'renegade', 'revenge', 'rewrite', 'reynolds', 'rhapsody', 'rhythm', 'rich', 'rico', 'rid', 'riddim', 'ride', 'rifle', 'rigamortis', 'rigby', 'right', 'ring', 'ringer', 'riot', 'rip', 'riptide', 'river', 'roach', 'road', 'robber', 'rock', 'rockabye', 'rockstar', 'role', 'rolex', 'roll', 'rollin', 'rolling', 'roman', 'ron', 'room', 'rose', 'rosecolored', 'royal', 'rule', 'run', 'runaway', 'russell', 'sabali', 'sabotage', 'sacrifice', 'sad', 'sadness', 'sag', 'said', 'saint', 'sale', 'salt', 'samson', 'sandcastles', 'sandra', 'satisfied', 'sauce', 'sausage', 'save', 'saved', 'say', 'scar', 'scared', 'schemin', 'scholarship', 'school', 'schuyler', 'scientist', 'scream', 'scrub', 'sealed', 'search', 'secret', 'sedan', 'see', 'seether', 'self', 'selfish', 'senile', 'september', 'servant', 'set', 'sex', 'sexual', 'sexxx', 'shabba', 'shady', 'shameless', 'shape', 'shelter', 'sherane', 'shether', 'shimmy', 'shining', 'shiny', 'ship', 'shit', 'shook', 'shop', 'shopping', 'shot', 'shout', 'show', 'shut', 'shutdown', 'si', 'sick', 'sicko', 'side', 'sideline', 'sidewalk', 'sierra', 'sight', 'sign', 'signed', 'sila', 'silence', 'silent', 'since', 'sing', 'single', 'sir', 'sister', 'six', 'skateboard', 'skinny', 'sky', 'skyline', 'slam', 'slave', 'sleeping', 'slide', 'slim', 'slippery', 'slob', 'sloopy', 'smack', 'smell', 'smoke', 'smoker', 'smooth', 'snake', 'sneakin', 'sober', 'softly', 'soldier', 'solo', 'somebody', 'someone', 'something', 'somewhereinamerica', 'song', 'soon', 'sorry', 'sosa', 'soul', 'soulja', 'sound', 'soundtrack', 'soup', 'space', 'spade', 'spanish', 'speak', 'speedom', 'spiderman', 'spirit', 'splinter', 'spoke', 'spontaneous', 'squad', 'stairway', 'stalin', 'stan', 'star', 'star67', 'starboy', 'stargazing', 'starship', 'start', 'started', 'state', 'stay', 'steady', 'steel', 'step', 'steppin', 'stfu', 'stick', 'stigma', 'still', 'stimulated', 'stitch', 'stockholm', 'stole', 'stone', 'stop', 'storm', 'stormzy', 'story', 'straight', 'stranger', 'street', 'stressed', 'stretch', 'strip', 'stronger', 'studio', 'style', 'sucker', 'suddenly', 'suey', 'sugar', 'suicidal', 'sum', 'summer', 'summertime', 'sun', 'sunday', 'sunflower', 'sunshine', 'super', 'superman', 'supermarket', 'surf', 'survival', 'swag', 'swang', 'sweater', 'sweatpants', 'sweet', 'sweeterman', 'swim', 'swimming', 'ta', 'table', 'take', 'takeover', 'takin', 'tale', 'talk', 'talking', 'tamale', 'tapout', 'tati', 'tattooed', 'team', 'tear', 'teen', 'teenage', 'tell', 'tellin', 'ten', 'tennessee', 'tennis', 'territorial', 'terrorist', 'tha', 'theme', 'theodosia', 'theory', 'thief', 'thing', 'think', 'thinkin', 'thinking', 'thirst', 'thirsty', 'thotties', 'thought', 'threat', 'three', 'thrift', 'thrill', 'throw', 'thru', 'thug', 'thunder', 'thursday', 'tick', 'tiimmy', 'till', 'time', 'timeless', 'tingz', 'tint', 'today', 'together', 'tom', 'tonight', 'took', 'toronto', 'tour', 'town', 'toy', 'trap', 'trashwang', 'tray', 'treat', 'tree', 'trigger', 'trilla', 'trip', 'tron', 'truck', 'true', 'truffle', 'try', 'trying', 'tshirt', 'tuesday', 'tunnel', 'turned', 'turner', 'tuscan', 'tuyo', 'twenty', 'twerk', 'type', 'tz', 'uber', 'ultimate', 'ultralight', 'ultraviolence', 'umbrella', 'unchained', 'uneek', 'unforgettable', 'untouchable', 'uoeno', 'upset', 'upside', 'uptown', 'used', 'vehicle', 'vein', 'venom', 'versace', 'version', 'vibe', 'vice', 'vida', 'video', 'vie', 'view', 'ville', 'violent', 'violet', 'vision', 'viva', 'waffle', 'wait', 'waiting', 'wake', 'walk', 'walker', 'wall', 'wan', 'wanderlust', 'wannabe', 'want', 'wanted', 'wardour', 'warning', 'washington', 'wassup', 'waste', 'wasted', 'wat', 'watch', 'water', 'waterfall', 'wave', 'waving', 'way', 'weather', 'weekend', 'welcome', 'well', 'wesley', 'westbrook', 'weston', 'wet', 'whatever', 'wheel', 'whiskey', 'white', 'wicked', 'wide', 'wiggle', 'wild', 'wildest', 'win', 'wind', 'window', 'wine', 'wing', 'wingriddenangel', 'wire', 'wish', 'witchblades', 'without', 'wolf', 'wolverine', 'woman', 'wonder', 'wonderful', 'wonderwall', 'wonton', 'wop', 'word', 'work', 'world', 'worldwide', 'worried', 'worry', 'worst', 'would', 'wrecking', 'writing', 'wrong', 'wu', 'wutang', 'xo', 'xxx', 'ya', 'yah', 'ye', 'yeah', 'year', 'yellow', 'yes', 'yesterday', 'yonkers', 'york', 'yorktown', 'yosemite', 'young', 'youngblood', 'yourz', 'youth', 'yung', 'yup', 'zealot', 'zero', 'zombie', 'zone']\n",
      "Train Data Shape:  (1617, 4393)\n",
      "Test Data Shape:  (405, 4393)\n"
     ]
    }
   ],
   "source": [
    "x_train, x_test, y_train, y_test = train_test_split(data_set,labels, train_size=0.8,test_size = 0.2)\n",
    "\n",
    "#Training Set \n",
    "dataset_train_sub,feat_add_train = process_features(x_train)\n",
    "artist_train_sub = dataset_train_sub[0]\n",
    "song_title_train_sub = dataset_train_sub[1]\n",
    "lyric_train_sub = dataset_train_sub[2]\n",
    "lyric_train_label = y_train\n",
    "\n",
    "\n",
    "#Test set \n",
    "dataset_test_sub,feat_add_test = process_features(x_test)\n",
    "artist_test_sub = dataset_test_sub[0]\n",
    "song_title_test_sub = dataset_test_sub[1]\n",
    "lyric_test_sub = dataset_test_sub[2]\n",
    "lyric_test_label = y_test\n",
    "\n",
    "\n"
   ]
  },
  {
   "cell_type": "code",
   "execution_count": 36,
   "metadata": {},
   "outputs": [
    {
     "name": "stdout",
     "output_type": "stream",
     "text": [
      "['182', '1975', '21', '21 savage', '21 savage metro', '21 savage offset', '2pac', '40', '50', '50 cent', '6ix9ine', '6lack', 'ab', 'ab soul', 'abstract', 'accept', 'ace', 'ace hood', 'action', 'action bronson', 'adele', 'after', 'after sex', 'again', 'against', 'against the', 'against the machine', 'aiko', 'alan', 'alan walker', 'alessia', 'alessia cara', 'aloe', 'aloe blacc', 'alt', 'alter', 'alter bridge', 'am', 'amarante', 'ambassadors', 'ambassadors bebe', 'ambassadors bebe rexha', 'aminé', 'amy', 'amy winehouse', 'and', 'and guy', 'and guy sebastian', 'and kolacny', 'and kolacny brothers', 'and mary', 'and mary chain', 'andrew', 'andrew belle', 'andrew belle featuring', 'animals', 'anne', 'anne marie', 'aoki', 'aoki louis', 'aoki louis tomlinson', 'ap', 'ap ferg', 'ap mob', 'ap rocky', 'appeal', 'appeal records', 'archies', 'arctic', 'arctic monkeys', 'ariana', 'ariana grande', 'armstrong', 'arthur', 'astaire', 'at', 'at the', 'at the disco', 'atari', 'atari teenage', 'atari teenage riot', 'atb', 'attractions', 'avicii', 'axwell', 'axwell ingrosso', 'ayo', 'ayo jay', 'ayo teo', 'azalea', 'azealia', 'azealia banks', 'baby', 'baby drake', 'backstreet', 'backstreet boys', 'bacon', 'bacon grits', 'bad', 'bad bunny', 'bad bunny balvin', 'bad meets', 'bad meets evil', 'baddiel', 'baddiel skinner', 'baddiel skinner the', 'balvin', 'bandit', 'bangles', 'bangz', 'banks', 'barry', 'barry mcguire', 'bastard', 'battalion', 'battles', 'battles of', 'battles of history', 'beal', 'beard', 'beastie', 'beastie boys', 'beatles', 'bebe', 'bebe rexha', 'belle', 'belle featuring', 'belle featuring erin', 'bellion', 'ben', 'ben folds', 'ben folds five', 'benny', 'benny blanco', 'bethel', 'bethel music', 'beyonce', 'beyoncé', 'bhabie', 'bhad', 'bhad bhabie', 'bieber', 'big', 'big sean', 'big shaq', 'big world', 'billie', 'billie eilish', 'billy', 'billy joel', 'billy straus', 'bishop', 'bishop briggs', 'bizarre', 'bizkit', 'blacc', 'black', 'black flag', 'black hippy', 'blackbear', 'blake', 'blanco', 'bleu', 'blink', 'blink 182', 'blocboy', 'blocboy jb', 'bloodpop', 'blue', 'blue cheer', 'bob', 'bob dylan', 'bobby', 'bobby shmurda', 'bon', 'bon iver', 'bone', 'bone thugs', 'bone thugs harmony', 'boogie', 'boogie down', 'boogie down productions', 'boogie wit', 'boogie wit da', 'boomin', 'boomtown', 'boomtown rats', 'boy', 'boys', 'boyz', 'brandon', 'brandon beal', 'brian', 'bridge', 'briggs', 'brinsley', 'brinsley schwarz', 'broadway', 'broadway cast', 'broadway cast of', 'brockhampton', 'broke', 'broke again', 'bronson', 'brothers', 'brown', 'brown tyga', 'bruno', 'bruno mars', 'bryson', 'bryson tiller', 'buckley', 'buffett', 'bunny', 'bunny balvin', 'burdon', 'burdon the', 'burdon the animals', 'cab', 'cab for', 'cab for cutie', 'cabello', 'caesar', 'cage', 'calum', 'calum scott', 'calvin', 'calvin harris', 'cam', 'camila', 'camila cabello', 'camp', 'capaldi', 'cara', 'cardi', 'cardi bad', 'cardi bad bunny', 'carey', 'carters', 'carti', 'cash', 'cast', 'cast of', 'cast of dear', 'cat', 'cent', 'chain', 'chainsmokers', 'chainz', 'chainz wiz', 'chainz wiz khalifa', 'chance', 'chance the', 'chance the rapper', 'charli', 'charli xcx', 'charlie', 'charlie puth', 'cheat', 'cheat codes', 'cheer', 'chief', 'chief keef', 'childish', 'childish gambino', 'chili', 'chili peppers', 'chocolate', 'chocolate genius', 'chocolate genius inc', 'chris', 'chris brown', 'chris brown tyga', 'chris isaak', 'chris kenner', 'chris stapleton', 'christmas', 'christmas songs', 'cigarettes', 'cigarettes after', 'cigarettes after sex', 'city', 'city jr', 'clan', 'clapton', 'clash', 'clean', 'clean bandit', 'clement', 'club', 'club up', 'club up thugs', 'cnco', 'codes', 'coldplay', 'cole', 'colerick', 'control', 'coolio', 'costello', 'costello the', 'costello the attractions', 'county', 'cowsills', 'cranberries', 'crazy', 'crazy horse', 'creator', 'crystals', 'cube', 'cudi', 'cupcakke', 'curry', 'cutie', 'cyndi', 'cyndi lauper', 'cyrus', 'céline', 'céline dion', 'da', 'da club', 'da club up', 'da hoodie', 'daddy', 'daft', 'daft punk', 'damian', 'damian marley', 'damian rice', 'daniel', 'daniel caesar', 'danny', 'danny brown', 'dave', 'david', 'david guetta', 'davido', 'dead', 'dead kennedys', 'dean', 'dean martin', 'dear', 'dear evan', 'dear evan hansen', 'death', 'death cab', 'death cab for', 'deep', 'dej', 'dej loaf', 'del', 'del rey', 'demi', 'demi lovato', 'denver', 'denzel', 'denzel curry', 'derulo', 'desiigner', 'dex', 'dicky', 'dion', 'diplo', 'direction', 'dirty', 'dirty bastard', 'disco', 'disney', 'disney records', 'dj', 'dj khaled', 'dj snake', 'dmx', 'dnce', 'dogg', 'doja', 'doja cat', 'doll', 'dolla', 'dolla ign', 'domino', 'don', 'don mclean', 'donnie', 'donnie trumpet', 'donnie trumpet the', 'doors', 'dorsey', 'down', 'down productions', 'dr', 'dr dre', 'dragons', 'drake', 'drake future', 'drake lil', 'drake lil wayne', 'drake michael', 'drake michael jackson', 'dram', 'dre', 'dreezy', 'dua', 'dua lipa', 'durk', 'dylan', 'eagles', 'earl', 'earl jean', 'earl sweatshirt', 'earlwolf', 'earth', 'earth wind', 'earth wind fire', 'east', 'east side', 'east side boyz', 'eazy', 'eazy halsey', 'eazy kehlani', 'ed', 'ed sheeran', 'ed sheeran beyonce', 'eden', 'efron', 'eggs', 'eggs bacon', 'eggs bacon grits', 'eilish', 'elisa', 'ellie', 'ellie goulding', 'elliott', 'elton', 'elton john', 'elvis', 'elvis costello', 'elvis costello the', 'elvis presley', 'emily', 'emily warren', 'eminem', 'emma', 'emma watson', 'enemy', 'entombed', 'epic', 'epic rap', 'epic rap battles', 'eric', 'eric burdon', 'eric burdon the', 'eric clapton', 'erin', 'erin mccarley', 'evan', 'evan hansen', 'evil', 'ex', 'ex battalion', 'experience', 'experiment', 'fabolous', 'faces', 'famous', 'famous dex', 'fastball', 'fat', 'fat joe', 'fat joe remy', 'fats', 'fats domino', 'fear', 'featuring', 'featuring erin', 'featuring erin mccarley', 'ferg', 'fetty', 'fetty wap', 'fiasco', 'fiasco and', 'fiasco and guy', 'fifth', 'fifth harmony', 'fighters', 'fire', 'five', 'flag', 'flatbush', 'flatbush zombies', 'fleetwood', 'fleetwood mac', 'flume', 'folds', 'folds five', 'foo', 'foo fighters', 'for', 'for cutie', 'formby', 'foster', 'foster the', 'foster the people', 'frank', 'frank ocean', 'frankie', 'frankie valli', 'fray', 'fred', 'fred astaire', 'french', 'french montana', 'frenship', 'frenship emily', 'frenship emily warren', 'frou', 'frou frou', 'fugazi', 'fugees', 'fun', 'future', 'future james', 'future james blake', 'futuristic', 'gaga', 'gambino', 'game', 'gang', 'garfunkel', 'garrix', 'garrix bebe', 'garrix bebe rexha', 'garrix david', 'garrix david guetta', 'garrix dua', 'garrix dua lipa', 'gary', 'gary jules', 'gates', 'gemini', 'genius', 'genius inc', 'george', 'george formby', 'girls', 'glynne', 'god', 'goldlink', 'gomez', 'gomez marshmello', 'gorillaz', 'gosling', 'gotti', 'gotye', 'goulding', 'grace', 'graham', 'grande', 'great', 'great big', 'great big world', 'grey', 'grits', 'grizzley', 'gucci', 'gucci mane', 'guetta', 'gun', 'gun kelly', 'gun kelly ambassadors', 'gunna', 'guns', 'guns roses', 'guy', 'guy sebastian', 'ha', 'hailee', 'hailee steinfeld', 'hailee steinfeld bloodpop', 'halsey', 'hank', 'hank williams', 'hansen', 'harmony', 'harpers', 'harpers bizarre', 'harris', 'harry', 'harry styles', 'harvey', 'hendrix', 'hendrix experience', 'herbo', 'hilfigerrr', 'hill', 'hippy', 'history', 'hole', 'homie', 'homie quan', 'hood', 'hoodie', 'hopsin', 'horan', 'horse', 'hot', 'hot chili', 'hot chili peppers', 'houston', 'hozier', 'hrvy', 'huey', 'huey lewis', 'huey lewis the', 'huey piano', 'huey piano smith', 'hugh', 'hugh jackman', 'ice', 'ice cube', 'idubbbz', 'iggy', 'iggy azalea', 'iggy the', 'iggy the stooges', 'ign', 'ilovemakonnen', 'ilovememphis', 'imagine', 'imagine dragons', 'immortal', 'immortal technique', 'impala', 'inc', 'inch', 'inch nails', 'ingrosso', 'insanity', 'isaak', 'isaiah', 'isaiah rashad', 'it', 'iver', 'jackman', 'jackson', 'jaden', 'jaden smith', 'jake', 'jake paul', 'jam', 'james', 'james arthur', 'james blake', 'jan', 'jan dean', 'jane', 'jane xo', 'janelle', 'janelle monáe', 'jasmin', 'jasmin walia', 'jason', 'jason derulo', 'jason mraz', 'jay', 'jay kanye', 'jay kanye west', 'jay linkin', 'jay linkin park', 'jay rock', 'jay rock kendrick', 'jb', 'jean', 'jeff', 'jeff buckley', 'jemaine', 'jemaine clement', 'jeremih', 'jerry', 'jess', 'jess glynne', 'jessie', 'jesus', 'jesus and', 'jesus and mary', 'jhené', 'jhené aiko', 'jidenna', 'jim', 'jim colerick', 'jimi', 'jimi hendrix', 'jimi hendrix experience', 'jimmy', 'jimmy buffett', 'joe', 'joe remy', 'joe remy ma', 'joel', 'john', 'john denver', 'john legend', 'john sebastian', 'johnny', 'johnny cash', 'joji', 'jon', 'jon bellion', 'jon the', 'jon the east', 'jonas', 'jonas blue', 'jordan', 'journey', 'joy', 'joyner', 'joyner lucas', 'jr', 'judas', 'judas priest', 'juice', 'juice wrld', 'juicy', 'jules', 'julia', 'julia michaels', 'justin', 'justin bieber', 'justin timberlake', 'kanye', 'kanye west', 'kanye west lil', 'kash', 'kash doll', 'katy', 'katy perry', 'keala', 'keala settle', 'keef', 'kehlani', 'kelly', 'kelly ambassadors', 'kelly ambassadors bebe', 'kelly rowland', 'kendrick', 'kendrick lamar', 'kendrick lamar future', 'kennedys', 'kenner', 'kevin', 'kevin gates', 'khaled', 'khalid', 'khalifa', 'kid', 'kid cudi', 'kid rock', 'kiiara', 'killers', 'kinks', 'kirko', 'kirko bangz', 'knight', 'knight jasmin', 'knight jasmin walia', 'knockerz', 'kodak', 'kodak black', 'kolacny', 'kolacny brothers', 'korn', 'kygo', 'kygo selena', 'kygo selena gomez', 'kyle', 'la', 'la la', 'la la land', 'la land', 'la land cast', 'lady', 'lady gaga', 'lady peace', 'lamar', 'lamar future', 'lamar future james', 'lana', 'lana del', 'lana del rey', 'lance', 'land', 'land cast', 'lanez', 'lany', 'lauper', 'lauryn', 'lauryn hill', 'lauv', 'lazer', 'lazy', 'lazy town', 'lean', 'led', 'led zeppelin', 'lee', 'lee dorsey', 'legend', 'lewis', 'lewis capaldi', 'lewis the', 'lewis the news', 'liam', 'liam payne', 'liam payne rita', 'lightning', 'lightning seeds', 'lil', 'lil baby', 'lil baby drake', 'lil dicky', 'lil durk', 'lil jon', 'lil jon the', 'lil peep', 'lil peep lil', 'lil peep xxxtentacion', 'lil pump', 'lil skies', 'lil tracy', 'lil uzi', 'lil uzi vert', 'lil wayne', 'lil xan', 'lil yachty', 'limp', 'limp bizkit', 'lin', 'lin manuel', 'lin manuel miranda', 'linkin', 'linkin park', 'lipa', 'loaf', 'logan', 'logan paul', 'logic', 'lorde', 'lot', 'louis', 'louis armstrong', 'louis jordan', 'louis tomlinson', 'lovato', 'loverance', 'lovin', 'lovin spoonful', 'lowry', 'lsd', 'lucas', 'lukas', 'lukas graham', 'lund', 'luniz', 'lupe', 'lupe fiasco', 'lupe fiasco and', 'luthor', 'luthor vandross', 'ma', 'mac', 'mac miller', 'machine', 'machine gun', 'machine gun kelly', 'macklemore', 'macklemore ryan', 'macklemore ryan lewis', 'made', 'made it', 'madeintyo', 'madeon', 'maejor', 'major', 'major lance', 'major lazer', 'malone', 'man', 'mane', 'manuel', 'manuel miranda', 'maren', 'maren morris', 'maren morris grey', 'mariah', 'mariah carey', 'marie', 'mark', 'mark ronson', 'marley', 'maroon', 'mars', 'marshmello', 'marshmello anne', 'marshmello anne marie', 'martin', 'martin garrix', 'martin garrix bebe', 'martin garrix david', 'martin garrix dua', 'mary', 'mary chain', 'mask', 'mask the', 'mask the slump', 'mass', 'mass appeal', 'mass appeal records', 'max', 'mc5', 'mccarley', 'mccoys', 'mcguire', 'mclachlan', 'mclean', 'mechanics', 'meek', 'meek mill', 'meets', 'meets evil', 'meghan', 'meghan trainor', 'mendes', 'metallica', 'metro', 'metro boomin', 'michael', 'michael jackson', 'michaels', 'migos', 'migos nicki', 'migos nicki minaj', 'miguel', 'mike', 'mike posner', 'mike the', 'mike the mechanics', 'mike will', 'mike will made', 'miley', 'miley cyrus', 'mill', 'miller', 'minaj', 'minaj cardi', 'minaj drake', 'minaj drake lil', 'minaj mike', 'minaj mike will', 'ministry', 'minor', 'minor threat', 'miracles', 'miranda', 'misfits', 'missy', 'missy elliott', 'mix', 'mix lot', 'mob', 'mobb', 'mobb deep', 'money', 'monkees', 'monkeys', 'montana', 'monáe', 'morris', 'morris grey', 'motörhead', 'mouth', 'mraz', 'mudhoney', 'mungo', 'mungo jerry', 'music', 'n9ne', 'nahmir', 'naija', 'nails', 'nas', 'nas damian', 'nas damian marley', 'nav', 'nav metro', 'nav metro boomin', 'neighbourhood', 'neiked', 'neil', 'neil young', 'neil young crazy', 'never', 'never broke', 'never broke again', 'news', 'nf', 'niall', 'niall horan', 'nickelback', 'nicki', 'nicki minaj', 'nicki minaj cardi', 'nicki minaj drake', 'nicki minaj mike', 'nico', 'nico vinz', 'nina', 'nina simone', 'nine', 'nine inch', 'nine inch nails', 'nirvana', 'notorious', 'oasis', 'ocean', 'odd', 'odd future', 'of', 'of dear', 'of dear evan', 'of down', 'of history', 'of summer', 'offset', 'offset metro', 'offset metro boomin', 'ol', 'ol dirty', 'ol dirty bastard', 'one', 'one direction', 'one pilots', 'onerepublic', 'onyx', 'ora', 'orange', 'orange county', 'original', 'original broadway', 'original broadway cast', 'our', 'our lady', 'our lady peace', 'outkast', 'panic', 'panic at', 'panic at the', 'pantera', 'parachute', 'paramore', 'park', 'partynextdoor', 'passenger', 'pastor', 'pastor jim', 'pastor jim colerick', 'patrol', 'paul', 'payne', 'payne rita', 'payne rita ora', 'paz', 'peace', 'pearl', 'pearl jam', 'peep', 'peep lil', 'peep lil tracy', 'peep xxxtentacion', 'people', 'peppers', 'pernice', 'pernice brothers', 'perry', 'petty', 'pharrell', 'pharrell williams', 'piano', 'piano smith', 'pilots', 'pink', 'pink guy', 'pistols', 'pixies', 'pj', 'pj harvey', 'platten', 'playboi', 'playboi carti', 'pnb', 'pnb rock', 'pointer', 'pointer sisters', 'porter', 'porter robinson', 'porter robinson madeon', 'portugal', 'portugal the', 'portugal the man', 'posner', 'post', 'post malone', 'preme', 'presley', 'pretenders', 'priest', 'prodigy', 'productions', 'ptaf', 'public', 'public enemy', 'puff', 'puff daddy', 'pump', 'punk', 'pusha', 'puth', 'quality', 'quality control', 'quan', 'que', 'queen', 'queen naija', 'quiet', 'quiet riot', 'rachel', 'rachel platten', 'radiohead', 'rae', 'rae sremmurd', 'rage', 'rage against', 'rage against the', 'ramz', 'rap', 'rap battles', 'rap battles of', 'rapper', 'rashad', 'rats', 'ray', 'rbe', 'rebecca', 'rebecca sugar', 'records', 'red', 'red hot', 'red hot chili', 'regina', 'regina spektor', 'remy', 'remy ma', 'renae', 'rex', 'rex orange', 'rex orange county', 'rexha', 'rey', 'rice', 'ricegum', 'rich', 'rich brian', 'rich gang', 'rich homie', 'rich homie quan', 'rich the', 'rich the kid', 'rick', 'rick ross', 'righteous', 'righteous brothers', 'rihanna', 'riot', 'rita', 'rita ora', 'rob', 'rob tone', 'robbie', 'robbie williams', 'robin', 'robin thicke', 'robinson', 'robinson madeon', 'robinson the', 'robinson the miracles', 'rock', 'rock kendrick', 'rock kendrick lamar', 'rocko', 'rocky', 'rodrigo', 'rodrigo amarante', 'ronson', 'roses', 'ross', 'rowland', 'roy', 'roy woods', 'rudimental', 'run', 'russ', 'rusty', 'rusty cage', 'ryan', 'ryan gosling', 'ryan lewis', 'sage', 'sage the', 'sage the gemini', 'salt', 'salvato', 'sam', 'sam smith', 'sarah', 'sarah mclachlan', 'savage', 'savage metro', 'savage metro boomin', 'savage offset', 'savage offset metro', 'scala', 'scala and', 'scala and kolacny', 'schoolboy', 'schwarz', 'scott', 'sean', 'sebastian', 'seconds', 'seconds of', 'seconds of summer', 'seeds', 'selena', 'selena gomez', 'selena gomez marshmello', 'settle', 'sevyn', 'sevyn streeter', 'sex', 'sex pistols', 'shaggy', 'shaq', 'shawn', 'shawn mendes', 'sheeran', 'sheeran beyonce', 'shmurda', 'sia', 'side', 'side boyz', 'simon', 'simon garfunkel', 'simone', 'sir', 'sir mix', 'sir mix lot', 'sisters', 'sivan', 'skepta', 'ski', 'ski mask', 'ski mask the', 'skies', 'skinner', 'skinner the', 'skinner the lightning', 'skrillex', 'skrillex rick', 'skrillex rick ross', 'slim', 'slim jesus', 'slump', 'slump god', 'small', 'small faces', 'smash', 'smash mouth', 'smith', 'smokey', 'smokey robinson', 'smokey robinson the', 'snake', 'snakehips', 'snoop', 'snoop dogg', 'snow', 'snow patrol', 'sob', 'sob rbe', 'social', 'social experiment', 'solange', 'songs', 'soul', 'soulja', 'soulja boy', 'speaker', 'speaker knockerz', 'spektor', 'spice', 'spice girls', 'spoonful', 'sremmurd', 'standells', 'stapleton', 'starley', 'steinfeld', 'steinfeld bloodpop', 'steve', 'steve aoki', 'steve aoki louis', 'stevie', 'stevie wonder', 'stooges', 'stormzy', 'straus', 'streeter', 'styles', 'sugar', 'summer', 'sweatshirt', 'swift', 'sydney', 'sydney renae', 'system', 'system of', 'system of down', 'sza', 'tame', 'tame impala', 'tang', 'tang clan', 'tay', 'taylor', 'taylor swift', 'team', 'team salvato', 'tear', 'tear da', 'tear da club', 'tech', 'tech n9ne', 'technique', 'tee', 'tee grizzley', 'teenage', 'teenage riot', 'temper', 'temper trap', 'temptations', 'teo', 'the', 'the 1975', 'the animals', 'the archies', 'the attractions', 'the beatles', 'the carters', 'the chainsmokers', 'the clash', 'the cowsills', 'the cranberries', 'the creator', 'the crystals', 'the disco', 'the doors', 'the east', 'the east side', 'the fray', 'the game', 'the gemini', 'the jam', 'the jesus', 'the jesus and', 'the jimi', 'the jimi hendrix', 'the kid', 'the killers', 'the kinks', 'the lightning', 'the lightning seeds', 'the lovin', 'the lovin spoonful', 'the machine', 'the man', 'the mccoys', 'the mechanics', 'the miracles', 'the monkees', 'the neighbourhood', 'the news', 'the notorious', 'the people', 'the pointer', 'the pointer sisters', 'the prodigy', 'the rapper', 'the slump', 'the slump god', 'the social', 'the social experiment', 'the standells', 'the stooges', 'the temper', 'the temper trap', 'the temptations', 'the turtles', 'the verve', 'the weeknd', 'the weeknd kendrick', 'thicke', 'threat', 'thug', 'thugs', 'thugs harmony', 'tiller', 'timberlake', 'tinashe', 'tink', 'tlc', 'todd', 'todd beard', 'tom', 'tom petty', 'tomlinson', 'tone', 'tory', 'tory lanez', 'toto', 'town', 'tracy', 'trainor', 'trap', 'travis', 'travis scott', 'trinidad', 'trinidad james', 'troye', 'troye sivan', 'trumpet', 'trumpet the', 'trumpet the social', 'turtles', 'twenty', 'twenty one', 'twenty one pilots', 'ty', 'ty dolla', 'ty dolla ign', 'tyga', 'tyler', 'tyler the', 'tyler the creator', 'u2', 'ugk', 'ugly', 'ugly god', 'up', 'up thugs', 'usher', 'uzi', 'uzi vert', 'valli', 'vampire', 'vampire weekend', 'vance', 'vance joy', 'vandross', 'vert', 'veruca', 'veruca salt', 'verve', 'vinnie', 'vinnie paz', 'vinz', 'wale', 'walia', 'walker', 'walt', 'walt disney', 'walt disney records', 'wap', 'warren', 'watsky', 'watson', 'wayne', 'weekend', 'weeknd', 'weeknd kendrick', 'weeknd kendrick lamar', 'weezer', 'wes', 'wes walker', 'west', 'west lil', 'west lil pump', 'wham', 'whitney', 'whitney houston', 'will', 'will am', 'will made', 'will made it', 'williams', 'wind', 'wind fire', 'winehouse', 'wit', 'wit da', 'wit da hoodie', 'witt', 'witt lowry', 'wiz', 'wiz khalifa', 'wonder', 'woods', 'world', 'wrld', 'wu', 'wu tang', 'wu tang clan', 'xan', 'xcx', 'xo', 'xxxtentacion', 'yachty', 'ybn', 'ybn nahmir', 'yelawolf', 'yg', 'ylvis', 'yo', 'yo gotti', 'young', 'young crazy', 'young crazy horse', 'young money', 'young thug', 'youngboy', 'youngboy never', 'youngboy never broke', 'yung', 'yung bleu', 'yung lean', 'zac', 'zac efron', 'zack', 'zack knight', 'zack knight jasmin', 'zaifman', 'zay', 'zay hilfigerrr', 'zayn', 'zayn taylor', 'zayn taylor swift', 'zedd', 'zedd maren', 'zedd maren morris', 'zeppelin', 'ziv', 'ziv zaifman', 'zombies']\n",
      "['baby', 'back', 'bad', 'better', 'bitch', 'black', 'blue', 'boy', 'come', 'dance', 'day', 'fall', 'feel', 'freestyle', 'friend', 'game', 'get', 'girl', 'go', 'god', 'good', 'got', 'heart', 'hold', 'know', 'let', 'life', 'light', 'like', 'look', 'love', 'man', 'na', 'new', 'night', 'one', 'remix', 'say', 'something', 'song', 'take', 'time', 'wan', 'wan na', 'way', 'white', 'work']\n"
     ]
    },
    {
     "name": "stdout",
     "output_type": "stream",
     "text": [
      "Train Data Shape:  (1617, 8338)\n",
      "Test Data Shape:  (405, 8338)\n"
     ]
    }
   ],
   "source": [
    "#FEATURE EXTRACTION\n",
    "C_vec = CountVectorizer(max_df = 0.5,min_df = 2,ngram_range = (1,2))\n",
    "trainX1 = C_vec.fit_transform(lyric_train_sub).toarray()\n",
    "testX1 = C_vec.transform(lyric_test_sub).toarray()\n",
    "# print(C_vec.get_feature_names())\n",
    "\n",
    "C_vec = CountVectorizer(ngram_range = (1,3))\n",
    "trainX2 = C_vec.fit_transform(artist_train_sub).toarray()\n",
    "testX2 = C_vec.transform(artist_test_sub).toarray()\n",
    "print(C_vec.get_feature_names())\n",
    "\n",
    "C_vec = CountVectorizer(max_df = 0.5,min_df = 2,ngram_range = (1,2))\n",
    "trainX3 = C_vec.fit_transform(song_title_train_sub).toarray()\n",
    "testX3 = C_vec.transform(song_title_test_sub).toarray()\n",
    "print(C_vec.get_feature_names())\n",
    "\n",
    "lyric_train = np.hstack((trainX1,trainX2,trainX3,feat_add_train))\n",
    "lyric_test = np.hstack((testX1,testX2,testX3,feat_add_test))\n",
    "\n",
    "\n",
    "#Final feature : lyric_train\n",
    "print(\"Train Data Shape: \",np.shape(lyric_train))\n",
    "print(\"Test Data Shape: \",np.shape(lyric_test))"
   ]
  },
  {
   "cell_type": "code",
   "execution_count": 48,
   "metadata": {},
   "outputs": [
    {
     "name": "stdout",
     "output_type": "stream",
     "text": [
      "Train Data Shape:  (1617, 240894)\n",
      "Test Data Shape:  (405, 240894)\n"
     ]
    }
   ],
   "source": [
    "#FEATURE EXTRACTION\n",
    "T_vec = TfidfVectorizer(max_df = 0.5,min_df = 1,ngram_range = (1,2))\n",
    "trainX1_tf = T_vec.fit_transform(lyric_train_sub).toarray()\n",
    "testX1_tf = T_vec.transform(lyric_test_sub).toarray()\n",
    "\n",
    "T_vec = TfidfVectorizer(ngram_range = (1,2))\n",
    "trainX2_tf = T_vec.fit_transform(artist_train_sub).toarray()\n",
    "testX2_tf = T_vec.transform(artist_test_sub).toarray()\n",
    "\n",
    "\n",
    "T_vec = TfidfVectorizer(max_df = 0.5,min_df = 1,ngram_range = (1,2))\n",
    "trainX3_tf = T_vec.fit_transform(song_title_train_sub).toarray()\n",
    "testX3_tf = T_vec.transform(song_title_test_sub).toarray()\n",
    "\n",
    "lyric_train = np.hstack((trainX1_tf,trainX2_tf,trainX3_tf,feat_add_train))\n",
    "lyric_test = np.hstack((testX1_tf,testX2_tf,testX3_tf,feat_add_test))\n",
    "\n",
    "\n",
    "#Final feature : lyric_train\n",
    "print(\"Train Data Shape: \",np.shape(lyric_train))\n",
    "print(\"Test Data Shape: \",np.shape(lyric_test))"
   ]
  },
  {
   "cell_type": "code",
   "execution_count": null,
   "metadata": {},
   "outputs": [],
   "source": []
  },
  {
   "cell_type": "markdown",
   "metadata": {},
   "source": [
    "# CLASSIFIERS"
   ]
  },
  {
   "cell_type": "code",
   "execution_count": null,
   "metadata": {},
   "outputs": [],
   "source": []
  },
  {
   "cell_type": "code",
   "execution_count": 49,
   "metadata": {},
   "outputs": [
    {
     "name": "stdout",
     "output_type": "stream",
     "text": [
      "GaussianNB_Accuracy_Train =  1.0\n",
      "GaussianNB_Accuracy_Test =  0.5012345679012346\n",
      "F1_Score =  0.49518481499025163\n"
     ]
    }
   ],
   "source": [
    "## MULTINOMIAL NAIVE BAYES\n",
    "\n",
    "nb_g = GaussianNB()\n",
    "model =nb_g.fit(lyric_train,lyric_train_label)\n",
    "lyric_train_label_predict = model.predict(lyric_train)\n",
    "accuracy_train = accuracy_score(lyric_train_label,lyric_train_label_predict)\n",
    "lyric_test_label_predict = model.predict(lyric_test)\n",
    "accuracy_test = accuracy_score(lyric_test_label,lyric_test_label_predict)\n",
    "# print(lyric_test_label,lyric_test_label_predict)\n",
    "print('GaussianNB_Accuracy_Train = ',accuracy_train)\n",
    "print('GaussianNB_Accuracy_Test = ',accuracy_test)\n",
    "print('F1_Score = ',f1_score(lyric_test_label,lyric_test_label_predict,average = 'macro') )"
   ]
  },
  {
   "cell_type": "code",
   "execution_count": 42,
   "metadata": {},
   "outputs": [
    {
     "name": "stdout",
     "output_type": "stream",
     "text": [
      "SVM_Accuracy_Train =  0.6431663574520717\n",
      "SVM_Accuracy_Test =  0.5160493827160494\n"
     ]
    }
   ],
   "source": [
    "## SUPPORT VECTOR MACHINES\n",
    "\n",
    "clf = SVC()\n",
    "model = clf.fit(lyric_train,lyric_train_label)\n",
    "lyric_train_label_predict = model.predict(lyric_train)\n",
    "accuracy_train = accuracy_score(lyric_train_label,lyric_train_label_predict)\n",
    "lyric_test_label_predict = model.predict(lyric_test)\n",
    "accuracy_test = accuracy_score(lyric_test_label,lyric_test_label_predict)\n",
    "# print(lyric_test_label,lyric_test_label_predict)\n",
    "print('SVM_Accuracy_Train = ',accuracy_train)\n",
    "print('SVM_Accuracy_Test = ',accuracy_test)"
   ]
  },
  {
   "cell_type": "code",
   "execution_count": 47,
   "metadata": {},
   "outputs": [
    {
     "name": "stdout",
     "output_type": "stream",
     "text": [
      "C :=  0.001   Penalty:=  l1   Accuracy=  0.4222222222222222\n",
      "C :=  0.001   Penalty:=  l2   Accuracy=  0.4222222222222222\n",
      "C :=  111.11200000000001   Penalty:=  l1   Accuracy=  0.4740740740740741\n",
      "C :=  111.11200000000001   Penalty:=  l2   Accuracy=  0.5160493827160494\n",
      "C :=  222.223   Penalty:=  l1   Accuracy=  0.4740740740740741\n",
      "C :=  222.223   Penalty:=  l2   Accuracy=  0.5185185185185185\n",
      "C :=  333.334   Penalty:=  l1   Accuracy=  0.47901234567901235\n",
      "C :=  333.334   Penalty:=  l2   Accuracy=  0.5185185185185185\n",
      "C :=  444.445   Penalty:=  l1   Accuracy=  0.49135802469135803\n",
      "C :=  444.445   Penalty:=  l2   Accuracy=  0.5160493827160494\n",
      "C :=  555.556   Penalty:=  l1   Accuracy=  0.48641975308641977\n",
      "C :=  555.556   Penalty:=  l2   Accuracy=  0.5135802469135803\n",
      "C :=  666.667   Penalty:=  l1   Accuracy=  0.5012345679012346\n",
      "C :=  666.667   Penalty:=  l2   Accuracy=  0.5135802469135803\n",
      "C :=  777.778   Penalty:=  l1   Accuracy=  0.49382716049382713\n",
      "C :=  777.778   Penalty:=  l2   Accuracy=  0.5135802469135803\n",
      "C :=  888.889   Penalty:=  l1   Accuracy=  0.49135802469135803\n",
      "C :=  888.889   Penalty:=  l2   Accuracy=  0.5135802469135803\n",
      "C :=  1000.0   Penalty:=  l1   Accuracy=  0.48148148148148145\n",
      "C :=  1000.0   Penalty:=  l2   Accuracy=  0.5135802469135803\n",
      "Accuracy=  0.5185185185185185\n"
     ]
    }
   ],
   "source": [
    "## LOGISTICAL REGRESSION\n",
    "\n",
    "#Cross Validation for LogisticRegression\n",
    "\n",
    "feat_train,x_validation,feat_label,label_validation = train_test_split(lyric_train,lyric_train_label,test_size = 0.25,shuffle = True)\n",
    "max_acc = 0\n",
    "for c in np.linspace(0.001,1000,10):\n",
    "    for p in ['l1','l2']:\n",
    "\n",
    "        Lregression = LogisticRegression(multi_class = 'ovr',C=c,penalty = p)\n",
    "        OneVRest = OneVsRestClassifier(Lregression, n_jobs=-1)\n",
    "        model = OneVRest.fit(feat_train,feat_label)\n",
    "        label_validation_predict = model.predict(x_validation)\n",
    "        accuracy = accuracy_score(label_validation,label_validation_predict)\n",
    "        print('C := ',c, '  Penalty:= ',p,'  Accuracy= ',accuracy)\n",
    "        if(accuracy>=max_acc):\n",
    "            max_acc = accuracy\n",
    "            optimal_C = c\n",
    "            optimal_P = p\n",
    "\n",
    "Lregression = LogisticRegression(multi_class = 'ovr',C = optimal_C,penalty = optimal_P)\n",
    "OneVRest = OneVsRestClassifier(Lregression, n_jobs=-1)\n",
    "model = OneVRest.fit(feat_train,feat_label)\n",
    "label_validation_predict = model.predict(x_validation)\n",
    "accuracy = accuracy_score(label_validation,label_validation_predict)\n",
    "print('Accuracy= ',accuracy) "
   ]
  },
  {
   "cell_type": "code",
   "execution_count": 50,
   "metadata": {},
   "outputs": [
    {
     "name": "stdout",
     "output_type": "stream",
     "text": [
      "RF_Accuracy_Train =  0.9962894248608535\n",
      "RF_Accuracy_Test =  0.4839506172839506\n"
     ]
    }
   ],
   "source": [
    "## RANDOM FOREST\n",
    "\n",
    "feat_train,x_validation,feat_label,label_validation = train_test_split(lyric_train,lyric_train_label,test_size = 0.25,shuffle = True)\n",
    "max_acc = 0\n",
    "for n in range(1,31):\n",
    "        rfc = RandomForestClassifier(n_estimators = n)\n",
    "        model = rfc.fit(feat_train, feat_label)\n",
    "        label_validation_predict = model.predict(x_validation)\n",
    "        accuracy = accuracy_score(label_validation,label_validation_predict)\n",
    "        if(accuracy>=max_acc):\n",
    "            max_acc = accuracy\n",
    "            optimal_n = n\n",
    "rfc = RandomForestClassifier(n_estimators = optimal_n)\n",
    "model = rfc.fit(lyric_train, lyric_train_label)\n",
    "lyric_train_label_predict = model.predict(lyric_train)\n",
    "accuracy_train = accuracy_score(lyric_train_label,lyric_train_label_predict)\n",
    "lyric_test_label_predict = model.predict(lyric_test)\n",
    "accuracy_test = accuracy_score(lyric_test_label,lyric_test_label_predict)\n",
    "print('RF_Accuracy_Train = ',accuracy_train)\n",
    "print('RF_Accuracy_Test = ',accuracy_test)"
   ]
  },
  {
   "cell_type": "code",
   "execution_count": null,
   "metadata": {},
   "outputs": [],
   "source": [
    "## CONVOLUTIONAL NEURAL NETWORKS\n",
    "import tensorflow\n",
    "import keras\n",
    "import numpy as np\n",
    "from matplotlib import pyplot as plt \n",
    "import keras\n",
    "import sys\n",
    "import math\n",
    "\n",
    "from keras.utils import to_categorical\n",
    "np.random.seed(123)\n",
    "import tensorflow as tf\n",
    "tf.set_random_seed(123)\n",
    "from keras.models import Sequential\n",
    "from keras.layers import Dense,Dropout, Activation,Flatten\n",
    "from keras.layers import Conv1D,MaxPooling1D\n",
    "from keras import optimizers\n",
    "from keras.callbacks import LearningRateScheduler\n",
    "\n",
    "\n",
    "##(feat_train,l_train),(feat_test,l_test) = data\n",
    "##feat_train = feat_train.reshape(feat_train.shape[0],28,28,1)\n",
    "##feat_test = feat_test.reshape(feat_test.shape[0],28,28,1)\n",
    "feat_train = lyric_train.astype('float32')\n",
    "feat_test = lyric_test.astype('float32')\n",
    "##feat_train/=255\n",
    "##feat_test/=255\n",
    "label_train = to_categorical(lyric_train_label,3)\n",
    "label_test = to_categorical(lyric_test_label,3)\n",
    "feat_train_shape = feat_train.shape\n",
    "feat_test_shape = feat_test.shape\n",
    "print(feat_train_shape,len(feat_train))\n",
    "print(feat_test_shape)\n",
    "print(label_train.shape)\n",
    "print(label_test.shape)\n",
    "\n",
    "nb_features = int(feat_train_shape[1]/3)\n",
    "# number of features per features type (shape, texture, margin)   \n",
    "classes = [0,1,2]\n",
    "nb_class = 3\n",
    "\n",
    "# reshape train data\n",
    "# feat_train_r = np.zeros((len(feat_train), nb_features, 3))\n",
    "# feat_train_r[:, :, 0] = feat_train[:, :nb_features]\n",
    "# feat_train_r[:, :, 1] = feat_train[:, nb_features:(2*nb_features)+1]\n",
    "# feat_train_r[:, :, 2] = feat_train[:, (2*nb_features)+1:]\n",
    "\n",
    "# # reshape test data\n",
    "# feat_test_r = np.zeros((len(feat_test), nb_features, 3))\n",
    "# feat_test_r[:, :, 0] = feat_test[:, :nb_features]\n",
    "# feat_test_r[:, :, 1] = feat_test[:, nb_features:2830]\n",
    "# feat_test_r[:, :, 2] = feat_test[:, 2830:]\n",
    "\n",
    "feat_train = feat_train.reshape(feat_train.shape[0],142,149).astype('float32')\n",
    "feat_test = feat_test.reshape(feat_test.shape[0],142,149).astype('float32')\n",
    "\n",
    "# cnn_model = Sequential()\n",
    "\n",
    "# cnn_model.add(Conv1D(6, 5,padding='same', activation='relu', use_bias=True,input_shape = (feat_train_shape[0]\n",
    "#                                                                                           ,feat_train_shape[1]), kernel_initializer = 'RandomUniform'))\n",
    "# # print(cnn_model.output_shape)\n",
    "\n",
    "# # cnn_model.add(MaxPooling1D(pool_size=2))\n",
    "# # print(cnn_model.output_shape)\n",
    "\n",
    "# cnn_model.add(Conv1D(16, 5,padding='valid', activation='relu', use_bias=True))\n",
    "# # print(cnn_model.output_shape)\n",
    "\n",
    "# # cnn_model.add(MaxPooling1D(pool_size=2))\n",
    "# # print(cnn_model.output_shape)\n",
    "\n",
    "# cnn_model.add(Flatten())\n",
    "# cnn_model.add(Dense(120, activation='relu', use_bias=True))\n",
    "# cnn_model.add(Dropout(0.2))\n",
    "# # print(cnn_model.output_shape)\n",
    "# cnn_model.add(Dense(80, activation='relu', use_bias=True))\n",
    "# # print(cnn_model.output_shape)\n",
    "# cnn_model.add(Dense(10, activation='softmax'))\n",
    "# # print(cnn_model.output_shape)\n",
    "\n",
    "model = Sequential()\n",
    "model.add(Conv1D(filters=64, kernel_size=10, input_shape=(142,149),activation='relu'))\n",
    "model.add(MaxPooling1D(pool_size=5 ))\n",
    "model.add(Conv1D(filters =64, kernel_size = 8,padding='valid', activation='relu', use_bias=True))\n",
    "model.add(MaxPooling1D(pool_size=2))\n",
    "model.add(Flatten())\n",
    "model.add(Dense(1000, activation='relu',use_bias=True))\n",
    "model.add(Dropout(0.5))\n",
    "model.add(Dense(80, activation='relu', use_bias=True))\n",
    "model.add(Dense(3, activation='softmax'))\n",
    "\n",
    "\n",
    "# #lr *= (1. / (1. + self.decay * self.iterations))\n",
    "learning_rate = 0.05\n",
    "decay_rate = learning_rate / 100\n",
    "momentum = 0.8\n",
    "# sgd = SGD(lr=0.01, nesterov=True, decay=1e-6, momentum=0.9)\n",
    "# model.compile(loss='categorical_crossentropy',optimizer=sgd,metrics=['accuracy'])\n",
    "\n",
    "sgd = optimizers.SGD(lr = learning_rate,momentum = momentum,decay=decay_rate)\n",
    "model.compile(loss='categorical_crossentropy',optimizer= sgd,metrics=['accuracy'])\n",
    "\n",
    "history = model.fit(feat_train,label_train,epochs = 100, verbose = 2,validation_data = (feat_test,label_test))\n",
    "performance = model.evaluate(feat_test,label_test,verbose = 0)\n",
    "print('Test Loss:', performance[0])\n",
    "print('Test Accuracy: ', performance[1])\n",
    "performance = model.evaluate(feat_train,label_train,verbose = 0)\n",
    "print('Train Loss:', performance[0])\n",
    "print('Train Accuracy: ', performance[1])\n",
    "\n",
    "# summarize history for accuracy\n",
    "plt.plot(history.history['acc'])\n",
    "plt.plot(history.history['val_acc'])\n",
    "plt.title('model accuracy')\n",
    "plt.ylabel('accuracy')\n",
    "plt.xlabel('epoch')\n",
    "plt.legend(['train', 'test'], loc='upper left')\n",
    "plt.show()\n",
    "# summarize history for loss\n",
    "plt.plot(history.history['loss'])\n",
    "plt.plot(history.history['val_loss'])\n",
    "plt.title('model loss')\n",
    "plt.ylabel('loss')\n",
    "plt.xlabel('epoch')\n",
    "plt.legend(['train', 'test'], loc='upper left')\n",
    "plt.show()"
   ]
  }
 ],
 "metadata": {
  "kernelspec": {
   "display_name": "Python 3",
   "language": "python",
   "name": "python3"
  },
  "language_info": {
   "codemirror_mode": {
    "name": "ipython",
    "version": 3
   },
   "file_extension": ".py",
   "mimetype": "text/x-python",
   "name": "python",
   "nbconvert_exporter": "python",
   "pygments_lexer": "ipython3",
   "version": "3.6.4"
  }
 },
 "nbformat": 4,
 "nbformat_minor": 2
}
